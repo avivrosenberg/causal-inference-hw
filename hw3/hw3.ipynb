{
 "cells": [
  {
   "cell_type": "markdown",
   "metadata": {
    "pycharm": {
     "name": "#%% md\n"
    }
   },
   "source": [
    "$$\n",
    "\\newcommand{\\mat}[1]{\\boldsymbol {#1}}\n",
    "\\newcommand{\\mattr}[1]{\\boldsymbol {#1}^\\top}\n",
    "\\newcommand{\\matinv}[1]{\\boldsymbol {#1}^{-1}}\n",
    "\\renewcommand{\\vec}[1]{\\boldsymbol {#1}}\n",
    "\\newcommand{\\vectr}[1]{\\boldsymbol {#1}^\\top}\n",
    "\\newcommand{\\rvar}[1]{\\mathrm {#1}}\n",
    "\\newcommand{\\rvec}[1]{\\boldsymbol{\\mathrm{#1}}}\n",
    "\\newcommand{\\diag}{\\mathop{\\mathrm {diag}}}\n",
    "\\newcommand{\\set}[1]{\\mathbb {#1}}\n",
    "\\newcommand{\\cset}[1]{\\mathcal {#1}}\n",
    "\\newcommand{\\norm}[1]{\\left\\lVert#1\\right\\rVert}\n",
    "\\newcommand{\\abs}[1]{\\left\\lvert#1\\right\\rvert}\n",
    "\\newcommand{\\pderiv}[2]{\\frac{\\partial #1}{\\partial #2}}\n",
    "\\newcommand{\\bb}[1]{\\boldsymbol{#1}}\n",
    "\\newcommand{\\Tr}[0]{^\\top}\n",
    "\\newcommand{\\grad}[0]{\\nabla}\n",
    "\\newcommand{\\E}[2][]{\\mathbb{E}_{#1}\\left[#2\\right]}\n",
    "\\newcommand{\\ip}[3]{\\left<#1,#2\\right>_{#3}}\n",
    "\\newcommand{\\given}[0]{\\middle\\vert}\n",
    "\\newcommand{\\DKL}[2]{\\cset{D}_{\\text{KL}}\\left(#1\\,\\Vert\\, #2\\right)}\n",
    "\\DeclareMathOperator*{\\argmax}{arg\\,max}\n",
    "\\DeclareMathOperator*{\\argmin}{arg\\,min}\n",
    "\\DeclareMathOperator*{\\trace}{trace}\n",
    "\\newcommand{\\1}[1]{\\mathbb{I}\\left\\{#1\\right\\}}\n",
    "\\newcommand{\\setof}[1]{\\left\\{#1\\right\\}}\n",
    "\\newcommand{\\DO}[1]{\\mathrm{do}\\left(#1\\right)}\n",
    "\\newcommand{\\indep}{\\perp \\!\\!\\! \\perp}\n",
    "$$\n",
    "\n",
    "\n",
    "# <center>Causal Inference 097400, Winter 2019-20<br><br>Homework 3</center>\n",
    "\n",
    "#### <center>Aviv Rosenberg<br>`avivr@cs`</center>\n",
    "\n",
    "##### <center>January 5, 2020<br></center>\n"
   ]
  },
  {
   "cell_type": "markdown",
   "metadata": {},
   "source": [
    "The code implementing the assignment is in the `hw3` package right next to this notebook.\n",
    "\n",
    "The structure of this project is:\n",
    "```\n",
    "+\n",
    "|- data/                # Folder for raw data files\n",
    "|- out/                 # Output folder where result CSVs are saved\n",
    "|- hw3/\n",
    "|---- data.py           # Data loading and preprocessing\n",
    "|---- propensity.py     # Propensity score estimation\n",
    "|---- att.py            # Calculation of ATT\n",
    "|---- cv.py             # Cross-validation for fitting various models\n",
    "|- hw3.ipynb            # Notebook that runs the code and displays results\n",
    "```"
   ]
  },
  {
   "cell_type": "code",
   "execution_count": 1,
   "metadata": {
    "pycharm": {
     "is_executing": false
    }
   },
   "outputs": [
    {
     "name": "stdout",
     "output_type": "stream",
     "text": [
      "The autoreload extension is already loaded. To reload it, use:\n",
      "  %reload_ext autoreload\n"
     ]
    }
   ],
   "source": [
    "%load_ext autoreload\n",
    "%autoreload 2\n",
    "\n",
    "import os\n",
    "import numpy as np\n",
    "import pandas as pd\n",
    "\n",
    "DATA_FILE1 = 'data/data1.csv'\n",
    "DATA_FILE2 = 'data/data2.csv'\n",
    "OUT_DIR = 'out/'\n",
    "\n",
    "os.makedirs(OUT_DIR, exist_ok=True)"
   ]
  },
  {
   "cell_type": "code",
   "execution_count": 2,
   "metadata": {},
   "outputs": [],
   "source": [
    "import matplotlib.pyplot as plt\n",
    "plt.rcParams['axes.prop_cycle'] = plt.cycler(color=plt.cm.Set1.colors)\n",
    "plt.rcParams['font.size'] = 12"
   ]
  },
  {
   "cell_type": "markdown",
   "metadata": {},
   "source": [
    "## Part 1: Loading the data"
   ]
  },
  {
   "cell_type": "markdown",
   "metadata": {},
   "source": [
    "Here we're just loading the raw CSV files."
   ]
  },
  {
   "cell_type": "code",
   "execution_count": 3,
   "metadata": {},
   "outputs": [
    {
     "data": {
      "text/html": [
       "<div>\n",
       "<style scoped>\n",
       "    .dataframe tbody tr th:only-of-type {\n",
       "        vertical-align: middle;\n",
       "    }\n",
       "\n",
       "    .dataframe tbody tr th {\n",
       "        vertical-align: top;\n",
       "    }\n",
       "\n",
       "    .dataframe thead th {\n",
       "        text-align: right;\n",
       "    }\n",
       "</style>\n",
       "<table border=\"1\" class=\"dataframe\">\n",
       "  <thead>\n",
       "    <tr style=\"text-align: right;\">\n",
       "      <th></th>\n",
       "      <th>x_1</th>\n",
       "      <th>x_2</th>\n",
       "      <th>x_3</th>\n",
       "      <th>x_4</th>\n",
       "      <th>x_5</th>\n",
       "      <th>x_6</th>\n",
       "      <th>x_7</th>\n",
       "      <th>x_8</th>\n",
       "      <th>x_9</th>\n",
       "      <th>x_10</th>\n",
       "      <th>...</th>\n",
       "      <th>x_51</th>\n",
       "      <th>x_52</th>\n",
       "      <th>x_53</th>\n",
       "      <th>x_54</th>\n",
       "      <th>x_55</th>\n",
       "      <th>x_56</th>\n",
       "      <th>x_57</th>\n",
       "      <th>x_58</th>\n",
       "      <th>T</th>\n",
       "      <th>Y</th>\n",
       "    </tr>\n",
       "  </thead>\n",
       "  <tbody>\n",
       "    <tr>\n",
       "      <th>4797</th>\n",
       "      <td>21</td>\n",
       "      <td>C</td>\n",
       "      <td>0.0</td>\n",
       "      <td>0.0</td>\n",
       "      <td>67</td>\n",
       "      <td>140</td>\n",
       "      <td>0</td>\n",
       "      <td>0</td>\n",
       "      <td>2</td>\n",
       "      <td>0</td>\n",
       "      <td>...</td>\n",
       "      <td>0</td>\n",
       "      <td>0</td>\n",
       "      <td>0</td>\n",
       "      <td>0</td>\n",
       "      <td>0</td>\n",
       "      <td>1</td>\n",
       "      <td>47</td>\n",
       "      <td>39</td>\n",
       "      <td>0</td>\n",
       "      <td>-1.452833</td>\n",
       "    </tr>\n",
       "    <tr>\n",
       "      <th>4798</th>\n",
       "      <td>24</td>\n",
       "      <td>E</td>\n",
       "      <td>0.0</td>\n",
       "      <td>0.0</td>\n",
       "      <td>62</td>\n",
       "      <td>130</td>\n",
       "      <td>0</td>\n",
       "      <td>0</td>\n",
       "      <td>0</td>\n",
       "      <td>0</td>\n",
       "      <td>...</td>\n",
       "      <td>0</td>\n",
       "      <td>0</td>\n",
       "      <td>0</td>\n",
       "      <td>0</td>\n",
       "      <td>0</td>\n",
       "      <td>1</td>\n",
       "      <td>46</td>\n",
       "      <td>40</td>\n",
       "      <td>0</td>\n",
       "      <td>-10.182280</td>\n",
       "    </tr>\n",
       "    <tr>\n",
       "      <th>4799</th>\n",
       "      <td>33</td>\n",
       "      <td>C</td>\n",
       "      <td>5.0</td>\n",
       "      <td>15.0</td>\n",
       "      <td>63</td>\n",
       "      <td>137</td>\n",
       "      <td>0</td>\n",
       "      <td>0</td>\n",
       "      <td>0</td>\n",
       "      <td>0</td>\n",
       "      <td>...</td>\n",
       "      <td>0</td>\n",
       "      <td>0</td>\n",
       "      <td>0</td>\n",
       "      <td>0</td>\n",
       "      <td>0</td>\n",
       "      <td>0</td>\n",
       "      <td>46</td>\n",
       "      <td>38</td>\n",
       "      <td>0</td>\n",
       "      <td>0.441606</td>\n",
       "    </tr>\n",
       "    <tr>\n",
       "      <th>4800</th>\n",
       "      <td>36</td>\n",
       "      <td>C</td>\n",
       "      <td>10.0</td>\n",
       "      <td>22.0</td>\n",
       "      <td>60</td>\n",
       "      <td>110</td>\n",
       "      <td>0</td>\n",
       "      <td>0</td>\n",
       "      <td>1</td>\n",
       "      <td>0</td>\n",
       "      <td>...</td>\n",
       "      <td>0</td>\n",
       "      <td>0</td>\n",
       "      <td>0</td>\n",
       "      <td>0</td>\n",
       "      <td>0</td>\n",
       "      <td>0</td>\n",
       "      <td>46</td>\n",
       "      <td>38</td>\n",
       "      <td>0</td>\n",
       "      <td>-1.336014</td>\n",
       "    </tr>\n",
       "    <tr>\n",
       "      <th>4801</th>\n",
       "      <td>18</td>\n",
       "      <td>C</td>\n",
       "      <td>0.0</td>\n",
       "      <td>0.0</td>\n",
       "      <td>65</td>\n",
       "      <td>110</td>\n",
       "      <td>0</td>\n",
       "      <td>0</td>\n",
       "      <td>0</td>\n",
       "      <td>0</td>\n",
       "      <td>...</td>\n",
       "      <td>0</td>\n",
       "      <td>0</td>\n",
       "      <td>0</td>\n",
       "      <td>0</td>\n",
       "      <td>0</td>\n",
       "      <td>0</td>\n",
       "      <td>45</td>\n",
       "      <td>37</td>\n",
       "      <td>0</td>\n",
       "      <td>8.828653</td>\n",
       "    </tr>\n",
       "  </tbody>\n",
       "</table>\n",
       "<p>5 rows × 60 columns</p>\n",
       "</div>"
      ],
      "text/plain": [
       "      x_1 x_2   x_3   x_4  x_5  x_6  x_7  x_8  x_9  x_10  ...  x_51  x_52  \\\n",
       "4797   21   C   0.0   0.0   67  140    0    0    2     0  ...     0     0   \n",
       "4798   24   E   0.0   0.0   62  130    0    0    0     0  ...     0     0   \n",
       "4799   33   C   5.0  15.0   63  137    0    0    0     0  ...     0     0   \n",
       "4800   36   C  10.0  22.0   60  110    0    0    1     0  ...     0     0   \n",
       "4801   18   C   0.0   0.0   65  110    0    0    0     0  ...     0     0   \n",
       "\n",
       "      x_53  x_54  x_55  x_56  x_57  x_58  T          Y  \n",
       "4797     0     0     0     1    47    39  0  -1.452833  \n",
       "4798     0     0     0     1    46    40  0 -10.182280  \n",
       "4799     0     0     0     0    46    38  0   0.441606  \n",
       "4800     0     0     0     0    46    38  0  -1.336014  \n",
       "4801     0     0     0     0    45    37  0   8.828653  \n",
       "\n",
       "[5 rows x 60 columns]"
      ]
     },
     "execution_count": 3,
     "metadata": {},
     "output_type": "execute_result"
    }
   ],
   "source": [
    "from hw3.data import load_data, encode_categorical, get_training_data\n",
    "    \n",
    "df1 = load_data(DATA_FILE1)\n",
    "df2 = load_data(DATA_FILE2)\n",
    "\n",
    "df1.tail(5)"
   ]
  },
  {
   "cell_type": "markdown",
   "metadata": {},
   "source": [
    " Some variables in the dataset (e.g. `x_2`) are given as categorical values, so we encode these as sequential integers."
   ]
  },
  {
   "cell_type": "code",
   "execution_count": 4,
   "metadata": {
    "pycharm": {
     "is_executing": false,
     "name": "#%%\n"
    }
   },
   "outputs": [
    {
     "data": {
      "text/html": [
       "<div>\n",
       "<style scoped>\n",
       "    .dataframe tbody tr th:only-of-type {\n",
       "        vertical-align: middle;\n",
       "    }\n",
       "\n",
       "    .dataframe tbody tr th {\n",
       "        vertical-align: top;\n",
       "    }\n",
       "\n",
       "    .dataframe thead th {\n",
       "        text-align: right;\n",
       "    }\n",
       "</style>\n",
       "<table border=\"1\" class=\"dataframe\">\n",
       "  <thead>\n",
       "    <tr style=\"text-align: right;\">\n",
       "      <th></th>\n",
       "      <th>x_1</th>\n",
       "      <th>x_2</th>\n",
       "      <th>x_3</th>\n",
       "      <th>x_4</th>\n",
       "      <th>x_5</th>\n",
       "      <th>x_6</th>\n",
       "      <th>x_7</th>\n",
       "      <th>x_8</th>\n",
       "      <th>x_9</th>\n",
       "      <th>x_10</th>\n",
       "      <th>...</th>\n",
       "      <th>x_51</th>\n",
       "      <th>x_52</th>\n",
       "      <th>x_53</th>\n",
       "      <th>x_54</th>\n",
       "      <th>x_55</th>\n",
       "      <th>x_56</th>\n",
       "      <th>x_57</th>\n",
       "      <th>x_58</th>\n",
       "      <th>T</th>\n",
       "      <th>Y</th>\n",
       "    </tr>\n",
       "  </thead>\n",
       "  <tbody>\n",
       "    <tr>\n",
       "      <th>4797</th>\n",
       "      <td>21</td>\n",
       "      <td>2.0</td>\n",
       "      <td>0.0</td>\n",
       "      <td>0.0</td>\n",
       "      <td>67</td>\n",
       "      <td>140</td>\n",
       "      <td>0</td>\n",
       "      <td>0</td>\n",
       "      <td>2</td>\n",
       "      <td>0</td>\n",
       "      <td>...</td>\n",
       "      <td>0</td>\n",
       "      <td>0</td>\n",
       "      <td>0</td>\n",
       "      <td>0</td>\n",
       "      <td>0</td>\n",
       "      <td>1</td>\n",
       "      <td>47</td>\n",
       "      <td>39</td>\n",
       "      <td>0</td>\n",
       "      <td>-1.452833</td>\n",
       "    </tr>\n",
       "    <tr>\n",
       "      <th>4798</th>\n",
       "      <td>24</td>\n",
       "      <td>4.0</td>\n",
       "      <td>0.0</td>\n",
       "      <td>0.0</td>\n",
       "      <td>62</td>\n",
       "      <td>130</td>\n",
       "      <td>0</td>\n",
       "      <td>0</td>\n",
       "      <td>0</td>\n",
       "      <td>0</td>\n",
       "      <td>...</td>\n",
       "      <td>0</td>\n",
       "      <td>0</td>\n",
       "      <td>0</td>\n",
       "      <td>0</td>\n",
       "      <td>0</td>\n",
       "      <td>1</td>\n",
       "      <td>46</td>\n",
       "      <td>40</td>\n",
       "      <td>0</td>\n",
       "      <td>-10.182280</td>\n",
       "    </tr>\n",
       "    <tr>\n",
       "      <th>4799</th>\n",
       "      <td>33</td>\n",
       "      <td>2.0</td>\n",
       "      <td>5.0</td>\n",
       "      <td>15.0</td>\n",
       "      <td>63</td>\n",
       "      <td>137</td>\n",
       "      <td>0</td>\n",
       "      <td>0</td>\n",
       "      <td>0</td>\n",
       "      <td>0</td>\n",
       "      <td>...</td>\n",
       "      <td>0</td>\n",
       "      <td>0</td>\n",
       "      <td>0</td>\n",
       "      <td>0</td>\n",
       "      <td>0</td>\n",
       "      <td>0</td>\n",
       "      <td>46</td>\n",
       "      <td>38</td>\n",
       "      <td>0</td>\n",
       "      <td>0.441606</td>\n",
       "    </tr>\n",
       "    <tr>\n",
       "      <th>4800</th>\n",
       "      <td>36</td>\n",
       "      <td>2.0</td>\n",
       "      <td>10.0</td>\n",
       "      <td>22.0</td>\n",
       "      <td>60</td>\n",
       "      <td>110</td>\n",
       "      <td>0</td>\n",
       "      <td>0</td>\n",
       "      <td>1</td>\n",
       "      <td>0</td>\n",
       "      <td>...</td>\n",
       "      <td>0</td>\n",
       "      <td>0</td>\n",
       "      <td>0</td>\n",
       "      <td>0</td>\n",
       "      <td>0</td>\n",
       "      <td>0</td>\n",
       "      <td>46</td>\n",
       "      <td>38</td>\n",
       "      <td>0</td>\n",
       "      <td>-1.336014</td>\n",
       "    </tr>\n",
       "    <tr>\n",
       "      <th>4801</th>\n",
       "      <td>18</td>\n",
       "      <td>2.0</td>\n",
       "      <td>0.0</td>\n",
       "      <td>0.0</td>\n",
       "      <td>65</td>\n",
       "      <td>110</td>\n",
       "      <td>0</td>\n",
       "      <td>0</td>\n",
       "      <td>0</td>\n",
       "      <td>0</td>\n",
       "      <td>...</td>\n",
       "      <td>0</td>\n",
       "      <td>0</td>\n",
       "      <td>0</td>\n",
       "      <td>0</td>\n",
       "      <td>0</td>\n",
       "      <td>0</td>\n",
       "      <td>45</td>\n",
       "      <td>37</td>\n",
       "      <td>0</td>\n",
       "      <td>8.828653</td>\n",
       "    </tr>\n",
       "  </tbody>\n",
       "</table>\n",
       "<p>5 rows × 60 columns</p>\n",
       "</div>"
      ],
      "text/plain": [
       "      x_1  x_2   x_3   x_4  x_5  x_6  x_7  x_8  x_9  x_10  ...  x_51  x_52  \\\n",
       "4797   21  2.0   0.0   0.0   67  140    0    0    2     0  ...     0     0   \n",
       "4798   24  4.0   0.0   0.0   62  130    0    0    0     0  ...     0     0   \n",
       "4799   33  2.0   5.0  15.0   63  137    0    0    0     0  ...     0     0   \n",
       "4800   36  2.0  10.0  22.0   60  110    0    0    1     0  ...     0     0   \n",
       "4801   18  2.0   0.0   0.0   65  110    0    0    0     0  ...     0     0   \n",
       "\n",
       "      x_53  x_54  x_55  x_56  x_57  x_58  T          Y  \n",
       "4797     0     0     0     1    47    39  0  -1.452833  \n",
       "4798     0     0     0     1    46    40  0 -10.182280  \n",
       "4799     0     0     0     0    46    38  0   0.441606  \n",
       "4800     0     0     0     0    46    38  0  -1.336014  \n",
       "4801     0     0     0     0    45    37  0   8.828653  \n",
       "\n",
       "[5 rows x 60 columns]"
      ]
     },
     "execution_count": 4,
     "metadata": {},
     "output_type": "execute_result"
    }
   ],
   "source": [
    "df1 = encode_categorical(df1)\n",
    "df2 = encode_categorical(df2)\n",
    "\n",
    "dataframes = (df1, df2)\n",
    "dataset_names = ('data1', 'data2')\n",
    "\n",
    "df1.tail(5)"
   ]
  },
  {
   "cell_type": "markdown",
   "metadata": {},
   "source": [
    "Let's take a look at the outcome distribution among the treatment and control groups."
   ]
  },
  {
   "cell_type": "code",
   "execution_count": 5,
   "metadata": {},
   "outputs": [
    {
     "name": "stdout",
     "output_type": "stream",
     "text": [
      "data1 outcome:\n"
     ]
    },
    {
     "data": {
      "text/html": [
       "<div>\n",
       "<style scoped>\n",
       "    .dataframe tbody tr th:only-of-type {\n",
       "        vertical-align: middle;\n",
       "    }\n",
       "\n",
       "    .dataframe tbody tr th {\n",
       "        vertical-align: top;\n",
       "    }\n",
       "\n",
       "    .dataframe thead th {\n",
       "        text-align: right;\n",
       "    }\n",
       "</style>\n",
       "<table border=\"1\" class=\"dataframe\">\n",
       "  <thead>\n",
       "    <tr style=\"text-align: right;\">\n",
       "      <th></th>\n",
       "      <th>mean</th>\n",
       "      <th>std</th>\n",
       "      <th>median</th>\n",
       "      <th>count</th>\n",
       "    </tr>\n",
       "    <tr>\n",
       "      <th>T</th>\n",
       "      <th></th>\n",
       "      <th></th>\n",
       "      <th></th>\n",
       "      <th></th>\n",
       "    </tr>\n",
       "  </thead>\n",
       "  <tbody>\n",
       "    <tr>\n",
       "      <th>0</th>\n",
       "      <td>8.251061</td>\n",
       "      <td>5.548459</td>\n",
       "      <td>8.357503</td>\n",
       "      <td>1529</td>\n",
       "    </tr>\n",
       "    <tr>\n",
       "      <th>1</th>\n",
       "      <td>13.667329</td>\n",
       "      <td>5.827545</td>\n",
       "      <td>15.069250</td>\n",
       "      <td>3273</td>\n",
       "    </tr>\n",
       "  </tbody>\n",
       "</table>\n",
       "</div>"
      ],
      "text/plain": [
       "        mean       std     median  count\n",
       "T                                       \n",
       "0   8.251061  5.548459   8.357503   1529\n",
       "1  13.667329  5.827545  15.069250   3273"
      ]
     },
     "metadata": {},
     "output_type": "display_data"
    },
    {
     "name": "stdout",
     "output_type": "stream",
     "text": [
      "data2 outcome:\n"
     ]
    },
    {
     "data": {
      "text/html": [
       "<div>\n",
       "<style scoped>\n",
       "    .dataframe tbody tr th:only-of-type {\n",
       "        vertical-align: middle;\n",
       "    }\n",
       "\n",
       "    .dataframe tbody tr th {\n",
       "        vertical-align: top;\n",
       "    }\n",
       "\n",
       "    .dataframe thead th {\n",
       "        text-align: right;\n",
       "    }\n",
       "</style>\n",
       "<table border=\"1\" class=\"dataframe\">\n",
       "  <thead>\n",
       "    <tr style=\"text-align: right;\">\n",
       "      <th></th>\n",
       "      <th>mean</th>\n",
       "      <th>std</th>\n",
       "      <th>median</th>\n",
       "      <th>count</th>\n",
       "    </tr>\n",
       "    <tr>\n",
       "      <th>T</th>\n",
       "      <th></th>\n",
       "      <th></th>\n",
       "      <th></th>\n",
       "      <th></th>\n",
       "    </tr>\n",
       "  </thead>\n",
       "  <tbody>\n",
       "    <tr>\n",
       "      <th>0</th>\n",
       "      <td>-0.512850</td>\n",
       "      <td>4.056643</td>\n",
       "      <td>-0.833142</td>\n",
       "      <td>2176</td>\n",
       "    </tr>\n",
       "    <tr>\n",
       "      <th>1</th>\n",
       "      <td>3.389848</td>\n",
       "      <td>6.422401</td>\n",
       "      <td>1.585648</td>\n",
       "      <td>2626</td>\n",
       "    </tr>\n",
       "  </tbody>\n",
       "</table>\n",
       "</div>"
      ],
      "text/plain": [
       "       mean       std    median  count\n",
       "T                                     \n",
       "0 -0.512850  4.056643 -0.833142   2176\n",
       "1  3.389848  6.422401  1.585648   2626"
      ]
     },
     "metadata": {},
     "output_type": "display_data"
    }
   ],
   "source": [
    "for i, df in enumerate(dataframes):\n",
    "    groups = df.groupby('T')\n",
    "    print(f'{dataset_names[i]} outcome:')\n",
    "    display(groups['Y'].agg(['mean','std','median','count']))"
   ]
  },
  {
   "cell_type": "code",
   "execution_count": 6,
   "metadata": {
    "pycharm": {
     "is_executing": false,
     "name": "#%%\n"
    }
   },
   "outputs": [
    {
     "data": {
      "image/png": "[encoded data removed]",
      "text/plain": [
       "<Figure size 1080x360 with 2 Axes>"
      ]
     },
     "metadata": {
      "needs_background": "light"
     },
     "output_type": "display_data"
    }
   ],
   "source": [
    "fig, ax = plt.subplots(nrows=1, ncols=len(dataframes), figsize=(15, 5))\n",
    "for i, df in enumerate(dataframes):\n",
    "    groups = df.groupby('T')\n",
    "    groups['Y'].plot(kind='hist', ax=ax[i], sharex=True, alpha=0.7, bins=50)\n",
    "    ax[i].set_title(f'{dataset_names[i]}')\n",
    "    ax[i].set_xlabel('Y (outcome)')\n",
    "    ax[i].grid(True)\n",
    "    ax[i].legend([f'T=0 (control)','T=1 (treated)'])"
   ]
  },
  {
   "cell_type": "markdown",
   "metadata": {},
   "source": [
    "In both datasets we can see a better outcome on average for the treated, but of course this does not prove a causal effect."
   ]
  },
  {
   "cell_type": "markdown",
   "metadata": {},
   "source": [
    "# Part 2: Propensity Estimation"
   ]
  },
  {
   "cell_type": "markdown",
   "metadata": {},
   "source": [
    "The *propensity score* is defined as $e(\\vec{x}):=\\Pr{\\left(\\rvar{T}=1\\given \\rvec{X}=\\vec{x}\\right)}$.\n",
    "In other words, it is the probability that a treatment $\\rvar{T}=1$ will be assigned to a\n",
    "unit with covariates $\\rvec{X}=\\vec{x}$.\n",
    "We would like to obtain an estimator for the propensity score, $\\hat e(\\vec{x})$, from the data.\n",
    "One important aspect of this estimator is that we would like it to be *calibrated*.\n",
    "Briefly, this means that for if for example we look at all units $\\vec{x}$ such that $e(\\vec{x})=0.8$, we expect 80\\% of them to actually belong to the treatment group ($\\rvar{T}=1$)."
   ]
  },
  {
   "cell_type": "markdown",
   "metadata": {},
   "source": [
    "To estimate the propensities, we first fit a classification model to predict $\\rvar{T}$ from $\\rvec{X}$.\n",
    "We tried three common classification models: logistic regression (`logistic`), gradient boosting machines (`gbm`), and naive Bayes (`nb`).\n",
    "Then, for each fitted model we applied a calibration method to obtain a new model with better-calibrated probability outputs. The calibration is performed on a disjoint validation set which includes 30\\% of the data chosen at random but with stratification on $\\rvar{T}$. The propensity scores from the model with the lowest Brier score after calibration are used."
   ]
  },
  {
   "cell_type": "markdown",
   "metadata": {},
   "source": [
    "The propensity model is fitted in the `fit_propensity_cv` function within the `propensity.py` module.\n",
    "This function first performs Cross Validation to find parameters for a classifier, and then runs the calibration methods to calibrate the classifier's output."
   ]
  },
  {
   "cell_type": "code",
   "execution_count": 29,
   "metadata": {},
   "outputs": [],
   "source": [
    "from sklearn.linear_model import LogisticRegressionCV, LogisticRegression\n",
    "from sklearn.ensemble import GradientBoostingClassifier\n",
    "from sklearn.naive_bayes import GaussianNB\n",
    "from scipy import stats\n",
    "\n",
    "from hw3.cv import CVConfig, LogSpaceSampler\n",
    "\n",
    "# Define the methods and CV search space for propensity estimation\n",
    "rcv_config = {\n",
    "    'logistic': CVConfig(\n",
    "        model=LogisticRegression(dual=False, solver='liblinear'),\n",
    "        params=dict(C=LogSpaceSampler(-5, 2), penalty=['l1','l2']),\n",
    "    ),\n",
    "    'gbm': CVConfig(\n",
    "        model=GradientBoostingClassifier(),\n",
    "        params=dict(\n",
    "            n_estimators=stats.randint(10, 100 + 1),\n",
    "            max_depth=stats.randint(1, 3 + 1),\n",
    "            learning_rate=LogSpaceSampler(-2, 0.5),\n",
    "        )\n",
    "    ),\n",
    "    'nb': CVConfig(\n",
    "        model=GaussianNB(),\n",
    "        params=dict(var_smoothing=LogSpaceSampler(-11, -6),)\n",
    "    ),\n",
    "}"
   ]
  },
  {
   "cell_type": "code",
   "execution_count": 26,
   "metadata": {},
   "outputs": [
    {
     "name": "stdout",
     "output_type": "stream",
     "text": [
      "data1 logistic \tbest_params={'model__C': 0.015577217702693023, 'model__penalty': 'l1'}\n",
      "data2 logistic \tbest_params={'model__C': 0.11645030315885957, 'model__penalty': 'l1'}\n",
      "data1 gbm \tbest_params={'model__learning_rate': 0.060155825411672505, 'model__max_depth': 2, 'model__n_estimators': 63}\n",
      "data2 gbm \tbest_params={'model__learning_rate': 0.20987186846453523, 'model__max_depth': 2, 'model__n_estimators': 13}\n",
      "data1 nb \tbest_params={'model__var_smoothing': 7.45934328572655e-10}\n",
      "data2 nb \tbest_params={'model__var_smoothing': 3.7607358658275915e-11}\n"
     ]
    },
    {
     "data": {
      "image/png": "[encoded data removed]",
      "text/plain": [
       "<Figure size 1152x432 with 2 Axes>"
      ]
     },
     "metadata": {
      "needs_background": "light"
     },
     "output_type": "display_data"
    },
    {
     "data": {
      "image/png": "[encoded data removed]",
      "text/plain": [
       "<Figure size 1152x432 with 2 Axes>"
      ]
     },
     "metadata": {
      "needs_background": "light"
     },
     "output_type": "display_data"
    },
    {
     "data": {
      "image/png": "[encoded data removed]",
      "text/plain": [
       "<Figure size 1152x432 with 2 Axes>"
      ]
     },
     "metadata": {
      "needs_background": "light"
     },
     "output_type": "display_data"
    }
   ],
   "source": [
    "from hw3.propensity import fit_propensity_cv\n",
    "\n",
    "# Create a dataframe to store propensities from each dataset and each method\n",
    "midx = pd.MultiIndex.from_product([dataset_names, rcv_config.keys()], names=['dataset', 'method'])\n",
    "df_propensity = pd.DataFrame(columns=midx)\n",
    "\n",
    "for method, cv_cfg in rcv_config.items():\n",
    "    fig, ax = plt.subplots(nrows=1, ncols=len(dataframes), figsize=(16, 6))\n",
    "    \n",
    "    for i, df in enumerate(dataframes):\n",
    "        # Get covariates X and treatment assignment t as numpy arrays\n",
    "        X, _, t = get_training_data(df, scale_covariates=True)\n",
    "        \n",
    "        # Train a model to estimate propensity using current method,\n",
    "        # calibrate with two approaches and generate a calibration plot\n",
    "        model, best_params = fit_propensity_cv(\n",
    "            cv_cfg, X, t, plot_args=dict(name=method, ax=ax[i]),\n",
    "            test_size=0.3, n_iter=42, random_state=42+i, cv_splits=4\n",
    "        )\n",
    "        \n",
    "        # Use the best calibrated model (lowest Brier score) to estimate the propensities\n",
    "        prop = model.predict_proba(X)[:, 1]\n",
    "        df_propensity[(dataset_names[i], method)] = prop\n",
    "        \n",
    "        ax[i].set_title(f'{dataset_names[i]}, method={method}')\n",
    "        print(f'{dataset_names[i]} {method} \\tbest_params={best_params}')"
   ]
  },
  {
   "cell_type": "markdown",
   "metadata": {},
   "source": [
    "The plots above show the calibration curves of the logistic regression (top row), the GBM models (middle row) and the NB models (bottom row).\n",
    "The ideal calibration is shown as a dotted line.\n",
    "For each classifier, two calibration methods, Platt and Isotonic Regression, are shown.\n",
    "In the legend, both the ROC-AUC score (`a`) and the Brier score (`b`) are reported as measures of the model's\n",
    "classification performance (higher is better) and de-calibration level (lower is better), respectively."
   ]
  },
  {
   "cell_type": "markdown",
   "metadata": {},
   "source": [
    "We now have all the propensity scores from each method:"
   ]
  },
  {
   "cell_type": "code",
   "execution_count": 27,
   "metadata": {},
   "outputs": [
    {
     "data": {
      "text/html": [
       "<div>\n",
       "<style scoped>\n",
       "    .dataframe tbody tr th:only-of-type {\n",
       "        vertical-align: middle;\n",
       "    }\n",
       "\n",
       "    .dataframe tbody tr th {\n",
       "        vertical-align: top;\n",
       "    }\n",
       "\n",
       "    .dataframe thead tr th {\n",
       "        text-align: left;\n",
       "    }\n",
       "</style>\n",
       "<table border=\"1\" class=\"dataframe\">\n",
       "  <thead>\n",
       "    <tr>\n",
       "      <th>dataset</th>\n",
       "      <th colspan=\"3\" halign=\"left\">data1</th>\n",
       "      <th colspan=\"3\" halign=\"left\">data2</th>\n",
       "    </tr>\n",
       "    <tr>\n",
       "      <th>method</th>\n",
       "      <th>logistic</th>\n",
       "      <th>gbm</th>\n",
       "      <th>nb</th>\n",
       "      <th>logistic</th>\n",
       "      <th>gbm</th>\n",
       "      <th>nb</th>\n",
       "    </tr>\n",
       "  </thead>\n",
       "  <tbody>\n",
       "    <tr>\n",
       "      <th>0</th>\n",
       "      <td>0.638472</td>\n",
       "      <td>0.593160</td>\n",
       "      <td>0.601738</td>\n",
       "      <td>0.782995</td>\n",
       "      <td>0.803678</td>\n",
       "      <td>0.802938</td>\n",
       "    </tr>\n",
       "    <tr>\n",
       "      <th>1</th>\n",
       "      <td>0.640568</td>\n",
       "      <td>0.575196</td>\n",
       "      <td>0.618998</td>\n",
       "      <td>0.588005</td>\n",
       "      <td>0.626190</td>\n",
       "      <td>0.116198</td>\n",
       "    </tr>\n",
       "    <tr>\n",
       "      <th>2</th>\n",
       "      <td>0.670156</td>\n",
       "      <td>0.657778</td>\n",
       "      <td>0.903161</td>\n",
       "      <td>0.850407</td>\n",
       "      <td>0.775244</td>\n",
       "      <td>0.875953</td>\n",
       "    </tr>\n",
       "    <tr>\n",
       "      <th>3</th>\n",
       "      <td>0.672365</td>\n",
       "      <td>0.685523</td>\n",
       "      <td>0.838142</td>\n",
       "      <td>0.311642</td>\n",
       "      <td>0.068751</td>\n",
       "      <td>0.059016</td>\n",
       "    </tr>\n",
       "    <tr>\n",
       "      <th>4</th>\n",
       "      <td>0.664600</td>\n",
       "      <td>0.651425</td>\n",
       "      <td>0.986591</td>\n",
       "      <td>0.443764</td>\n",
       "      <td>0.624459</td>\n",
       "      <td>0.608109</td>\n",
       "    </tr>\n",
       "  </tbody>\n",
       "</table>\n",
       "</div>"
      ],
      "text/plain": [
       "dataset     data1                         data2                    \n",
       "method   logistic       gbm        nb  logistic       gbm        nb\n",
       "0        0.638472  0.593160  0.601738  0.782995  0.803678  0.802938\n",
       "1        0.640568  0.575196  0.618998  0.588005  0.626190  0.116198\n",
       "2        0.670156  0.657778  0.903161  0.850407  0.775244  0.875953\n",
       "3        0.672365  0.685523  0.838142  0.311642  0.068751  0.059016\n",
       "4        0.664600  0.651425  0.986591  0.443764  0.624459  0.608109"
      ]
     },
     "execution_count": 27,
     "metadata": {},
     "output_type": "execute_result"
    }
   ],
   "source": [
    "df_propensity.head()"
   ]
  },
  {
   "cell_type": "markdown",
   "metadata": {},
   "source": [
    "To visualize the propensity estimation results of each method, we can plot the distribution of propensity scores between treated and control groups."
   ]
  },
  {
   "cell_type": "code",
   "execution_count": 28,
   "metadata": {},
   "outputs": [
    {
     "data": {
      "image/png": "[encoded data removed]",
      "text/plain": [
       "<Figure size 1080x360 with 3 Axes>"
      ]
     },
     "metadata": {
      "needs_background": "light"
     },
     "output_type": "display_data"
    },
    {
     "data": {
      "image/png": "[encoded data removed]",
      "text/plain": [
       "<Figure size 1080x360 with 3 Axes>"
      ]
     },
     "metadata": {
      "needs_background": "light"
     },
     "output_type": "display_data"
    }
   ],
   "source": [
    "for i, df in enumerate(dataframes):\n",
    "    fig, ax = plt.subplots(nrows=1, ncols=len(rcv_config.keys()), figsize=(15, 5))\n",
    "    df_tmp = df.copy()\n",
    "    for j, method in enumerate(rcv_config.keys()):\n",
    "        df_tmp['propensity'] = df_propensity[(dataset_names[i], method)]\n",
    "        groups = df_tmp.groupby('T')\n",
    "        groups['propensity'].plot(kind='hist', sharex=True, alpha=0.7, bins=40, ax=ax[j])\n",
    "        ax[j].set_title(f'{dataset_names[i]}, method={method}')\n",
    "        ax[j].set_xlabel('propensity'); ax[j].grid(True); ax[j].legend([f'T=0','T=1'])"
   ]
  },
  {
   "cell_type": "markdown",
   "metadata": {},
   "source": [
    "On the first dataset, the logistic and NB methods performed similarly both in terms of Brier score and ROC-AUC, and the GBM method performed slightly better in terms of both metrics.\n",
    "Based on the results it seems that no method was able to predict $\\rvar{T}$ from $\\rvec{X}$ very well in the \n",
    "first dataset (low ROC-AUC scores), possibly indicating a highly randomized treatment assignment.\n",
    "\n",
    "On the second dataset the ROC-AUC scores were higher indicating that there is some treatment assignment based on the covariates.\n",
    "The GBM method was the best performing on this dataset, however it produces sharp propensity distributions with values in a small range.\n",
    "These results may indicate strong overfitting, and are qualitatively less feasible as distributions obtained\n",
    "from a real-world selection process.\n",
    "In addition, the GBM-based approach leads to less common-support in terms of propensity score between the treatment and control groups. This will cause us to ignore more data in order to ensure that the overlap assumption holds.\n",
    "The logistic method produced more feasible propensity distributions and also achieved ROC-AUC scores almost as as high as GBM with better looking calibration curves. The NB method performed poorly on this dataset."
   ]
  },
  {
   "cell_type": "markdown",
   "metadata": {},
   "source": [
    "Based on the results, we opted to use GBM for propensity estimation on the first dataset and Logistic Regression for the second dataset."
   ]
  },
  {
   "cell_type": "code",
   "execution_count": 11,
   "metadata": {
    "pycharm": {
     "is_executing": false,
     "name": "#%%\n"
    }
   },
   "outputs": [
    {
     "data": {
      "text/html": [
       "<div>\n",
       "<style scoped>\n",
       "    .dataframe tbody tr th:only-of-type {\n",
       "        vertical-align: middle;\n",
       "    }\n",
       "\n",
       "    .dataframe tbody tr th {\n",
       "        vertical-align: top;\n",
       "    }\n",
       "\n",
       "    .dataframe thead th {\n",
       "        text-align: right;\n",
       "    }\n",
       "</style>\n",
       "<table border=\"1\" class=\"dataframe\">\n",
       "  <thead>\n",
       "    <tr style=\"text-align: right;\">\n",
       "      <th></th>\n",
       "      <th>0</th>\n",
       "      <th>1</th>\n",
       "      <th>2</th>\n",
       "      <th>3</th>\n",
       "      <th>4</th>\n",
       "      <th>5</th>\n",
       "      <th>6</th>\n",
       "      <th>7</th>\n",
       "      <th>8</th>\n",
       "      <th>9</th>\n",
       "      <th>...</th>\n",
       "      <th>4792</th>\n",
       "      <th>4793</th>\n",
       "      <th>4794</th>\n",
       "      <th>4795</th>\n",
       "      <th>4796</th>\n",
       "      <th>4797</th>\n",
       "      <th>4798</th>\n",
       "      <th>4799</th>\n",
       "      <th>4800</th>\n",
       "      <th>4801</th>\n",
       "    </tr>\n",
       "  </thead>\n",
       "  <tbody>\n",
       "    <tr>\n",
       "      <th>data1</th>\n",
       "      <td>0.593160</td>\n",
       "      <td>0.575196</td>\n",
       "      <td>0.657778</td>\n",
       "      <td>0.685523</td>\n",
       "      <td>0.651425</td>\n",
       "      <td>0.634825</td>\n",
       "      <td>0.763771</td>\n",
       "      <td>0.706427</td>\n",
       "      <td>0.642891</td>\n",
       "      <td>0.719473</td>\n",
       "      <td>...</td>\n",
       "      <td>0.609872</td>\n",
       "      <td>0.668930</td>\n",
       "      <td>0.678515</td>\n",
       "      <td>0.735086</td>\n",
       "      <td>0.681947</td>\n",
       "      <td>0.650653</td>\n",
       "      <td>0.584677</td>\n",
       "      <td>0.726714</td>\n",
       "      <td>0.580660</td>\n",
       "      <td>0.608582</td>\n",
       "    </tr>\n",
       "    <tr>\n",
       "      <th>data2</th>\n",
       "      <td>0.782998</td>\n",
       "      <td>0.588000</td>\n",
       "      <td>0.850407</td>\n",
       "      <td>0.311645</td>\n",
       "      <td>0.443767</td>\n",
       "      <td>0.482677</td>\n",
       "      <td>0.239046</td>\n",
       "      <td>0.755162</td>\n",
       "      <td>0.544113</td>\n",
       "      <td>0.668211</td>\n",
       "      <td>...</td>\n",
       "      <td>0.547413</td>\n",
       "      <td>0.400144</td>\n",
       "      <td>0.364074</td>\n",
       "      <td>0.299433</td>\n",
       "      <td>0.565470</td>\n",
       "      <td>0.381352</td>\n",
       "      <td>0.413434</td>\n",
       "      <td>0.487833</td>\n",
       "      <td>0.606743</td>\n",
       "      <td>0.462477</td>\n",
       "    </tr>\n",
       "  </tbody>\n",
       "</table>\n",
       "<p>2 rows × 4802 columns</p>\n",
       "</div>"
      ],
      "text/plain": [
       "           0         1         2         3         4         5         6     \\\n",
       "data1  0.593160  0.575196  0.657778  0.685523  0.651425  0.634825  0.763771   \n",
       "data2  0.782998  0.588000  0.850407  0.311645  0.443767  0.482677  0.239046   \n",
       "\n",
       "           7         8         9     ...      4792      4793      4794  \\\n",
       "data1  0.706427  0.642891  0.719473  ...  0.609872  0.668930  0.678515   \n",
       "data2  0.755162  0.544113  0.668211  ...  0.547413  0.400144  0.364074   \n",
       "\n",
       "           4795      4796      4797      4798      4799      4800      4801  \n",
       "data1  0.735086  0.681947  0.650653  0.584677  0.726714  0.580660  0.608582  \n",
       "data2  0.299433  0.565470  0.381352  0.413434  0.487833  0.606743  0.462477  \n",
       "\n",
       "[2 rows x 4802 columns]"
      ]
     },
     "metadata": {},
     "output_type": "display_data"
    }
   ],
   "source": [
    "# Selected method for propensity estimation per dataset\n",
    "prop_methods = ('gbm', 'logistic')\n",
    "\n",
    "df_prop_tmp = pd.DataFrame({\n",
    "    dataset_names[i]: df_propensity[(dataset_names[i], prop_methods[i])]\n",
    "    for i in range(len(dataset_names))\n",
    "})\n",
    "\n",
    "# Write the propensities to an output file with the requested format.\n",
    "df_prop_tmp.transpose().to_csv(f'{OUT_DIR}/models_propensity.csv', header=False)\n",
    "display(df_prop_tmp.transpose())\n",
    "del df_prop_tmp"
   ]
  },
  {
   "cell_type": "markdown",
   "metadata": {},
   "source": [
    "In order to do causal inference we need the common support (\"overlap\") assumption to hold:\n",
    "$$\n",
    "\\forall t,~\\vec{x}:\\ \\Pr\\left(\\rvar{T}=t\\given \\rvec{X}=\\vec{x}\\right)>0.\n",
    "$$\n",
    "This means that the the probability of any treatment is possible for any possible covariates of a unit.\n",
    "In practice we have a limited dataset, and in our specific data this assumption does not hold when\n",
    "we don't have samples from both groups (treatment and control) within the entire range of propensity scores.\n",
    "Therefore, to maintain the overlap assumption in our dataset, we'll remove samples for which the propensity\n",
    "score is outside the range of propensity scores of the other group.\n",
    "In addition, we'll remove samples with extremely low propensity and high scores as these will cause numerical errors.\n",
    "\n",
    "The common support calculation is implemented in the `common_support` function within the `propensity.py` module."
   ]
  },
  {
   "cell_type": "code",
   "execution_count": 12,
   "metadata": {},
   "outputs": [
    {
     "data": {
      "image/png": "[encoded data removed]",
      "text/plain": [
       "<Figure size 1080x360 with 2 Axes>"
      ]
     },
     "metadata": {
      "needs_background": "light"
     },
     "output_type": "display_data"
    }
   ],
   "source": [
    "from hw3.propensity import common_support\n",
    "\n",
    "# We'll save the dataframes after removing samples outside common support\n",
    "dataframes_cs = []\n",
    "\n",
    "fig, ax = plt.subplots(nrows=1, ncols=len(dataframes), figsize=(15, 5))\n",
    "for i, df in enumerate(dataframes):\n",
    "    df = df.copy()\n",
    "    df['propensity'] = df_propensity[(dataset_names[i], prop_methods[i])]\n",
    "    \n",
    "    # Get common support indices and remove outlying samples\n",
    "    idx_common = common_support(df['T'].to_numpy(), df['propensity'].to_numpy(),\n",
    "                                min_thresh=1e-2, max_thresh=1-1e-2)\n",
    "    df = df[idx_common]\n",
    "    \n",
    "    # Save the df with removed samples\n",
    "    dataframes_cs.append(df)\n",
    "    \n",
    "    groups = df.groupby('T')\n",
    "    groups['propensity'].plot(kind='hist', sharex=True, alpha=0.7, bins=40, ax=ax[i])\n",
    "    ax[i].set_xlabel('propensity'); ax[i].grid(True); ax[i].legend([f'T=0','T=1'])\n",
    "    ax[i].set_title(f'{dataset_names[i]} Common Support ({len(df)}/{len(dataframes[i])} samples)')\n",
    "    \n",
    "dataframes_cs = tuple(dataframes_cs)"
   ]
  },
  {
   "cell_type": "markdown",
   "metadata": {
    "pycharm": {
     "name": "#%% md\n"
    }
   },
   "source": [
    "## Part 3: Inverse-Propensity Weighting"
   ]
  },
  {
   "cell_type": "markdown",
   "metadata": {
    "pycharm": {
     "name": "#%% md\n"
    }
   },
   "source": [
    "The ATT, or average treatment effect on the treated is defined as\n",
    "$$\n",
    "\\mathrm{ATT} =  \\E[]{\\rvar{Y}^1-\\rvar{Y}^0\\given \\rvar{T}=1},\n",
    "$$\n",
    "where $\\rvar{Y}^t$ is the potential outcome of $\\rvar{T}=t$ and we assume a binary treatment, i.e. $t\\in\\setof{0,1}$."
   ]
  },
  {
   "cell_type": "markdown",
   "metadata": {
    "pycharm": {
     "name": "#%% md\n"
    }
   },
   "source": [
    "Under the assumption of conditional ignorability, given the covariates $\\rvec{X}$,\n",
    "the potential outcomes are independent of the treatment assignment,\n",
    "i.e. $(\\rvar{Y}^1,\\rvar{Y}^0)\\indep \\rvar{T}\\vert \\rvec{X}$.\n",
    "Since we know there are no unmeasured confounders in our data, this assumption holds.\n",
    "Therefore we can write,\n",
    "$$\n",
    "\\begin{align}\n",
    "\\mathrm{ATT}\n",
    "&=  \\E[]{\\rvar{Y}^1-\\rvar{Y}^0\\given \\rvar{T}=1}\\\\\n",
    "&=  \\E[\\rvec{X}]{\\E[]{\\rvar{Y}^1-\\rvar{Y}^0\\given \\rvar{T}=1, \\rvec{X}}}\\\\\n",
    "&=  \\E[\\rvec{X}]{\\E[]{\\rvar{Y}^1\\given \\rvar{T}=1, \\rvec{X}}-\\E[]{\\rvar{Y}^0\\given \\rvar{T}=1, \\rvec{X}}}\\\\\n",
    "&=  \\E[\\rvec{X}]{\\E[]{\\rvar{Y}^1\\given \\rvar{T}=1, \\rvec{X}}-\\E[]{\\rvar{Y}^0\\given \\rvar{T}=0, \\rvec{X}}}\\\\\n",
    "&=  \\E[\\rvec{X}]{\\E[]{\\rvar{Y}\\given \\rvar{T}=1, \\rvec{X}}-\\E[]{\\rvar{Y}\\given \\rvar{T}=0, \\rvec{X}}}\n",
    "\\end{align}\n",
    "$$\n",
    "where we used the conditional ignorability and the consistency assumptions in the second-last and last equations respectively.\n",
    "This shows the basis for ATT estimation: we can look at the *observed* outcome of a unit from the other group but with the same covariates."
   ]
  },
  {
   "cell_type": "markdown",
   "metadata": {},
   "source": [
    "Based on Abdia et al. <cite data-cite=\"abdia2017\">(Abdia, 2017)</cite> we will use our propensity score estimator $\\hat e(\\rvec{X})$ to estimate the ATT by a sample weighting approach.\n",
    "Outcome samples from the treated group will get a weight of $1$, while outcomes from the control\n",
    "group will be given a weight of $\\frac{\\hat e(\\rvec{X})}{1-\\hat e(\\rvec{X})}$. \n",
    "Intuitively, this gives more weight to control-group samples that have low propensity, i.e. ones that\n",
    "are more \"surprisingly\" in the control group.\n",
    "\n",
    "We'll denote the samples in our dataset as $\\setof{\\left(\\vec{x}_i,y_i,t_i\\right)}_{i=1}^{N}$.\n",
    "Thus, the ATT estimator will be,\n",
    "$$\n",
    "\\widehat{\\mathrm{ATT}} =\n",
    "\\frac{\\sum_{i=1}^{N} t_i y_i}{\\sum_{i=1}^{N} t_i} -\n",
    "\\frac{\\sum_{i=1}^{N} (1-t_i)y_i\\frac{\\hat e(\\vec{x}_i)}{1-\\hat e(\\vec{x}_i)}}\n",
    "{\\sum_{i=1}^{N} (1-t_i)\\frac{\\hat e(\\vec{x}_i)}{1-\\hat e(\\vec{x}_i)}}.\n",
    "$$\n",
    "Note that due to the fact that the treatment variables are binary, $t_i\\in\\setof{0,1}$,\n",
    "the first term in the above only sums over the treatment group, with a weight of one per sample,\n",
    "while the second term only sums over the contol group, with the desired weighting based on the propensity score of the sample."
   ]
  },
  {
   "cell_type": "code",
   "execution_count": 13,
   "metadata": {},
   "outputs": [],
   "source": [
    "df_att_results = pd.DataFrame(index=['data1', 'data2'])"
   ]
  },
  {
   "cell_type": "code",
   "execution_count": 14,
   "metadata": {},
   "outputs": [
    {
     "data": {
      "text/html": [
       "<div>\n",
       "<style scoped>\n",
       "    .dataframe tbody tr th:only-of-type {\n",
       "        vertical-align: middle;\n",
       "    }\n",
       "\n",
       "    .dataframe tbody tr th {\n",
       "        vertical-align: top;\n",
       "    }\n",
       "\n",
       "    .dataframe thead th {\n",
       "        text-align: right;\n",
       "    }\n",
       "</style>\n",
       "<table border=\"1\" class=\"dataframe\">\n",
       "  <thead>\n",
       "    <tr style=\"text-align: right;\">\n",
       "      <th></th>\n",
       "      <th>ipw</th>\n",
       "    </tr>\n",
       "  </thead>\n",
       "  <tbody>\n",
       "    <tr>\n",
       "      <th>data1</th>\n",
       "      <td>4.733163</td>\n",
       "    </tr>\n",
       "    <tr>\n",
       "      <th>data2</th>\n",
       "      <td>3.598402</td>\n",
       "    </tr>\n",
       "  </tbody>\n",
       "</table>\n",
       "</div>"
      ],
      "text/plain": [
       "            ipw\n",
       "data1  4.733163\n",
       "data2  3.598402"
      ]
     },
     "execution_count": 14,
     "metadata": {},
     "output_type": "execute_result"
    }
   ],
   "source": [
    "import hw3.att as att\n",
    "\n",
    "df_att_results['ipw'] = float('nan')\n",
    "for i, df in enumerate(dataframes_cs):\n",
    "    \n",
    "    y = df['Y'].to_numpy()\n",
    "    t = df['T'].to_numpy()\n",
    "    prop = df['propensity'].to_numpy()\n",
    "    \n",
    "    est_att = att.ipw(y, t, prop)\n",
    "    df_att_results['ipw'][i] = est_att\n",
    "    \n",
    "df_att_results[['ipw']]"
   ]
  },
  {
   "cell_type": "markdown",
   "metadata": {
    "pycharm": {
     "name": "#%% md\n"
    }
   },
   "source": [
    "## Part 4: S-Learner"
   ]
  },
  {
   "cell_type": "markdown",
   "metadata": {},
   "source": [
    "An S-Learner is a model which predicts the outcome given both the covariates and treatment assignemnt:\n",
    "$\n",
    "\\hat y = f(\\vec{x},t).\n",
    "$\n",
    "We will train a supervised regression model and then we can estimate the ATT as\n",
    "$$\n",
    "\\widehat{\\mathrm{ATT}} = \\frac{1}{\\left|\\cset{T}\\right|} \\sum_{i\\in\\cset{T}} f(\\vec{x}_i, 1)-f(\\vec{x}_i,0)\n",
    "$$\n",
    "where $\\cset{T} := \\setof{i \\given t_i = 1}$ is the treated group."
   ]
  },
  {
   "cell_type": "markdown",
   "metadata": {},
   "source": [
    "We fit four types of models to the data and apply a randomized Cross Validation to select the best parameters for each model and then the best type of model. We test regular linear regression models with L2 regularization (Ridge),\n",
    "L1 regularization (Lasso), a Gradient Boosting Machine (GBM) and a multilayer perceptron (MLP)."
   ]
  },
  {
   "cell_type": "code",
   "execution_count": 36,
   "metadata": {},
   "outputs": [],
   "source": [
    "from hw3.cv import CVConfig, MLPHiddenLayerSampler, LogSpaceSampler\n",
    "\n",
    "# Define model types and parameters samplers for the Cross Validation\n",
    "import scipy.stats as stats\n",
    "from sklearn.linear_model import Ridge, Lasso\n",
    "from sklearn.ensemble import GradientBoostingRegressor\n",
    "from sklearn.neural_network import MLPRegressor\n",
    "\n",
    "rcv_config = dict(\n",
    "    ridge=CVConfig(\n",
    "        model=Ridge(),\n",
    "        params=dict(alpha=LogSpaceSampler(-3, 1))\n",
    "    ),\n",
    "    \n",
    "    lasso=CVConfig(\n",
    "        model=Lasso(max_iter=2000,tol=0.001),\n",
    "        params=dict(alpha=LogSpaceSampler(-3, 1))),\n",
    "    \n",
    "    gbm=CVConfig(\n",
    "        model=GradientBoostingRegressor(),\n",
    "        params=dict(\n",
    "            n_estimators=stats.randint(10, 50+1),\n",
    "            max_depth=stats.randint(1, 3+1),\n",
    "            learning_rate=LogSpaceSampler(-2, 0.5),\n",
    "        )),\n",
    "    \n",
    "    mlp=CVConfig(\n",
    "        model=MLPRegressor(solver='lbfgs',),\n",
    "        params=dict(\n",
    "            hidden_layer_sizes=MLPHiddenLayerSampler(4, 50),\n",
    "            activation=['logistic', 'tanh', 'relu'],\n",
    "            alpha=LogSpaceSampler(-3, 1),\n",
    "        )),\n",
    ")"
   ]
  },
  {
   "cell_type": "markdown",
   "metadata": {},
   "source": [
    "Now we'll fit all four models types to the data and use Cross Validation to find good parameters for each.\n",
    "The Cross Validation first sets appart 30% of the data as a test test with stratification on $t$.\n",
    "Then, for each parameter configuration the training set is split further into four folds, again stratified on $t$,\n",
    "and each time one fold is used as a validation set while the model is fit on the remaining three. We select the best parameters for each model based on average\n",
    "$R^2$ score on the validation sets for that parameter configuration.\n",
    "\n",
    "This procedure is implemented by the `fit_slearner_cv` function in the `cv.py` module."
   ]
  },
  {
   "cell_type": "code",
   "execution_count": 37,
   "metadata": {},
   "outputs": [
    {
     "name": "stdout",
     "output_type": "stream",
     "text": [
      "data1\tmodel=ridge\tbest_params={'model__alpha': 7.136153179865257}\n",
      "data1\tmodel=lasso\tbest_params={'model__alpha': 0.017215187409600003}\n",
      "data1\tmodel=gbm\tbest_params={'model__learning_rate': 0.16681568872953634, 'model__max_depth': 3, 'model__n_estimators': 46}\n",
      "data1\tmodel=mlp\tbest_params={'model__activation': 'relu', 'model__alpha': 9.695997255303146, 'model__hidden_layer_sizes': (16, 42, 44)}\n",
      "data2\tmodel=ridge\tbest_params={'model__alpha': 0.13240398733466602}\n",
      "data2\tmodel=lasso\tbest_params={'model__alpha': 0.024459893113623794}\n",
      "data2\tmodel=gbm\tbest_params={'model__learning_rate': 0.28011956494445395, 'model__max_depth': 3, 'model__n_estimators': 31}\n",
      "data2\tmodel=mlp\tbest_params={'model__activation': 'relu', 'model__alpha': 0.466316621985628, 'model__hidden_layer_sizes': (42, 47, 33)}\n"
     ]
    },
    {
     "data": {
      "text/html": [
       "<div>\n",
       "<style scoped>\n",
       "    .dataframe tbody tr th:only-of-type {\n",
       "        vertical-align: middle;\n",
       "    }\n",
       "\n",
       "    .dataframe tbody tr th {\n",
       "        vertical-align: top;\n",
       "    }\n",
       "\n",
       "    .dataframe thead th {\n",
       "        text-align: right;\n",
       "    }\n",
       "</style>\n",
       "<table border=\"1\" class=\"dataframe\">\n",
       "  <thead>\n",
       "    <tr style=\"text-align: right;\">\n",
       "      <th></th>\n",
       "      <th></th>\n",
       "      <th>train</th>\n",
       "      <th>test</th>\n",
       "    </tr>\n",
       "  </thead>\n",
       "  <tbody>\n",
       "    <tr>\n",
       "      <th rowspan=\"4\" valign=\"top\">data1</th>\n",
       "      <th>ridge</th>\n",
       "      <td>0.571645</td>\n",
       "      <td>0.562273</td>\n",
       "    </tr>\n",
       "    <tr>\n",
       "      <th>lasso</th>\n",
       "      <td>0.565833</td>\n",
       "      <td>0.564971</td>\n",
       "    </tr>\n",
       "    <tr>\n",
       "      <th>gbm</th>\n",
       "      <td>0.945455</td>\n",
       "      <td>0.929914</td>\n",
       "    </tr>\n",
       "    <tr>\n",
       "      <th>mlp</th>\n",
       "      <td>0.961686</td>\n",
       "      <td>0.931516</td>\n",
       "    </tr>\n",
       "    <tr>\n",
       "      <th rowspan=\"4\" valign=\"top\">data2</th>\n",
       "      <th>ridge</th>\n",
       "      <td>0.408571</td>\n",
       "      <td>0.345678</td>\n",
       "    </tr>\n",
       "    <tr>\n",
       "      <th>lasso</th>\n",
       "      <td>0.39334</td>\n",
       "      <td>0.344699</td>\n",
       "    </tr>\n",
       "    <tr>\n",
       "      <th>gbm</th>\n",
       "      <td>0.9607</td>\n",
       "      <td>0.949733</td>\n",
       "    </tr>\n",
       "    <tr>\n",
       "      <th>mlp</th>\n",
       "      <td>0.970989</td>\n",
       "      <td>0.9242</td>\n",
       "    </tr>\n",
       "  </tbody>\n",
       "</table>\n",
       "</div>"
      ],
      "text/plain": [
       "                train      test\n",
       "data1 ridge  0.571645  0.562273\n",
       "      lasso  0.565833  0.564971\n",
       "      gbm    0.945455  0.929914\n",
       "      mlp    0.961686  0.931516\n",
       "data2 ridge  0.408571  0.345678\n",
       "      lasso   0.39334  0.344699\n",
       "      gbm      0.9607  0.949733\n",
       "      mlp    0.970989    0.9242"
      ]
     },
     "execution_count": 37,
     "metadata": {},
     "output_type": "execute_result"
    }
   ],
   "source": [
    "from hw3.att import fit_slearner_cv\n",
    "\n",
    "# Create a dataframe to store the CV results\n",
    "df_cv_slearner = pd.DataFrame(\n",
    "    index=pd.MultiIndex.from_product([dataset_names, rcv_config.keys()]),\n",
    "    columns=('train', 'test', 'cv_model')\n",
    ")\n",
    "\n",
    "# Run each CV configuration\n",
    "for i, df in enumerate(dataframes_cs):\n",
    "    X, y, t = get_training_data(df)\n",
    "    \n",
    "    for model_name, cv_cfg in rcv_config.items():\n",
    "        \n",
    "        model, train_score, test_score = fit_slearner_cv(\n",
    "            cv_cfg, X, y, t, random_state=42042+i,\n",
    "            interaction=True, test_size=0.3, cv_splits=4, n_iter=16\n",
    "        )\n",
    "    \n",
    "        df_cv_slearner.loc[(dataset_names[i], model_name), :] = [train_score, test_score, model]\n",
    "        print(f'{dataset_names[i]}\\tmodel={model_name}\\tbest_params={model.best_params_}')\n",
    "\n",
    "df_cv_slearner[['train', 'test']]"
   ]
  },
  {
   "cell_type": "markdown",
   "metadata": {},
   "source": [
    "The table above shows the $R^2$ score of the different models on the train set (70% of the data) and test set (30%).\n",
    "We can see that the non-linear models (GBM and MLP) produce much better results than the linear models (Ridge and Lasso),\n",
    "with relatively minimal overfitting. We will select the best S-Learner model for each dataset based on the test-set score.\n",
    "\n",
    "We now use the best model to estimate the ATT in each dataset.\n",
    "In addition, we use the previously-calculated propensity scores $\\hat e(\\vec{x})$ to obtain a doubly-robust (DR) estimator,\n",
    "in the following way:\n",
    "\n",
    "$$\n",
    "\\begin{align}\n",
    "\\widehat{\\mathrm{ATT}}_{DR}\n",
    "&= \n",
    "\\frac{1}{\\left|\\cset{T}\\right|} \\sum_{i\\in\\cset{T}}\n",
    "\\left[\n",
    "    \\frac{t_i y_i}{\\hat e(\\vec{x}_i)} - \\frac{t_i - \\hat e(\\vec{x}_i)}{\\hat e(\\vec{x}_i)}\\cdot f(\\vec{x}_i, 1)\n",
    "\\right]\n",
    "-\n",
    "\\frac{1}{\\left|\\cset{T}\\right|} \\sum_{i\\in\\cset{T}}\n",
    "\\left[\n",
    "    \\frac{(1-t_i)y_i}{1-\\hat e(\\vec{x}_i)} + \\frac{t_i-\\hat e(\\vec{x}_i)}{1-\\hat e(\\vec{x}_i)}\\cdot f(\\vec{x}_i, 0)\n",
    "\\right] \\\\\n",
    "&=\n",
    "\\frac{1}{\\left|\\cset{T}\\right|} \\sum_{i\\in\\cset{T}}\n",
    "\\left[\n",
    "    f(\\vec{x}_i, 1) - \\frac{t_i}{\\hat e(\\vec{x}_i)} \\cdot \\left( f(\\vec{x}_i, 1) - y_i\\right)\n",
    "\\right]\n",
    "-\n",
    "\\frac{1}{\\left|\\cset{T}\\right|} \\sum_{i\\in\\cset{T}}\n",
    "\\left[\n",
    "    f(\\vec{x}_i, 0) - \\frac{1-t_i}{1-\\hat e(\\vec{x}_i)} \\cdot \\left( f(\\vec{x}_i, 0) - y_i\\right)\n",
    "\\right].\n",
    "\\end{align}\n",
    "$$\n",
    "\n",
    "Note that since we're only looking at the treated group $\\cset{T}$, the second term in the second sum is zero.\n",
    "This method takes the estimation error $\\hat{y}_i - y_i$ into account and weights it according to the inverse\n",
    "propensity. It was shown to produce unbiased estimations of the treatment effect even if only one of the models (propensity or outcome regressor) is unbiased."
   ]
  },
  {
   "cell_type": "code",
   "execution_count": 89,
   "metadata": {},
   "outputs": [
    {
     "name": "stdout",
     "output_type": "stream",
     "text": [
      "data1: estimating with mlp{'model__activation': 'relu', 'model__alpha': 9.695997255303146, 'model__hidden_layer_sizes': (16, 42, 44)}\n",
      "data2: estimating with gbm{'model__learning_rate': 0.28011956494445395, 'model__max_depth': 3, 'model__n_estimators': 31}\n"
     ]
    },
    {
     "data": {
      "text/html": [
       "<div>\n",
       "<style scoped>\n",
       "    .dataframe tbody tr th:only-of-type {\n",
       "        vertical-align: middle;\n",
       "    }\n",
       "\n",
       "    .dataframe tbody tr th {\n",
       "        vertical-align: top;\n",
       "    }\n",
       "\n",
       "    .dataframe thead th {\n",
       "        text-align: right;\n",
       "    }\n",
       "</style>\n",
       "<table border=\"1\" class=\"dataframe\">\n",
       "  <thead>\n",
       "    <tr style=\"text-align: right;\">\n",
       "      <th></th>\n",
       "      <th>ipw</th>\n",
       "      <th>s_learner</th>\n",
       "      <th>t_learner</th>\n",
       "    </tr>\n",
       "  </thead>\n",
       "  <tbody>\n",
       "    <tr>\n",
       "      <th>data1</th>\n",
       "      <td>4.733163</td>\n",
       "      <td>4.378923</td>\n",
       "      <td>0.0</td>\n",
       "    </tr>\n",
       "    <tr>\n",
       "      <th>data2</th>\n",
       "      <td>3.598402</td>\n",
       "      <td>2.379601</td>\n",
       "      <td>0.0</td>\n",
       "    </tr>\n",
       "  </tbody>\n",
       "</table>\n",
       "</div>"
      ],
      "text/plain": [
       "            ipw  s_learner  t_learner\n",
       "data1  4.733163   4.378923        0.0\n",
       "data2  3.598402   2.379601        0.0"
      ]
     },
     "execution_count": 89,
     "metadata": {},
     "output_type": "execute_result"
    }
   ],
   "source": [
    "# Estimate ATT with S-Learner, using best fitted model for each dataset.\n",
    "df_att_results['s_learner'] = float('nan')\n",
    "\n",
    "for i, df in enumerate(dataframes_cs):\n",
    "    # Get data\n",
    "    X, y, t = get_training_data(df)\n",
    "    prop = df['propensity'].to_numpy()\n",
    "    \n",
    "    # Get best model based on test-set score on the current dataset\n",
    "    model_name = df_cv_slearner.loc[dataset_names[i], 'test'].astype(float).idxmax() \n",
    "    model = df_cv_slearner.loc[(dataset_names[i], model_name), 'cv_model']\n",
    "    print(f'{dataset_names[i]}: estimating with {model_name}{model.best_params_}')\n",
    "    \n",
    "    est_att = att.s_learner(model, X, y, t, propensity=prop, interaction=True)\n",
    "    df_att_results['s_learner'][i] = est_att\n",
    "    \n",
    "df_att_results"
   ]
  },
  {
   "cell_type": "markdown",
   "metadata": {
    "pycharm": {
     "name": "#%% md\n"
    }
   },
   "source": [
    "## Part 4: T-Learner"
   ]
  },
  {
   "cell_type": "markdown",
   "metadata": {},
   "source": [
    "The T-Learner formulation consists of fitting two different model which predict the outcome $\\rvar{Y}$ given the covariates $\\rvec{X}$ alone. The first model,  \n",
    "$\n",
    "\\hat y_1 = f_1(\\vec{x})\n",
    "$\n",
    ", is fitted on the treated group\n",
    "and the second model,\n",
    "$\n",
    "\\hat y_0 = f_0(\\vec{x})\n",
    "$\n",
    ", is fitted on the control group.\n",
    "\n",
    "Then we can estimate the ATT as\n",
    "$$\n",
    "\\widehat{\\mathrm{ATT}} = \\frac{1}{\\left|\\cset{T}\\right|} \\sum_{i\\in\\cset{T}} f_1(\\vec{x}_i)-f_0(\\vec{x}_i).\n",
    "$$\n",
    "In other words, these models are used for estimating the counterfactual outcome when used for inference\n",
    "on a data point belonging the group they weren't fitted on."
   ]
  },
  {
   "cell_type": "markdown",
   "metadata": {},
   "source": [
    "We'll fit the same types of models using the same CV scheme as for the S-Learner, but now we'll split each dataset into the treatment and control groups before fitting.\n",
    "This will give us a best estimator per dataset and per group."
   ]
  },
  {
   "cell_type": "code",
   "execution_count": 102,
   "metadata": {},
   "outputs": [],
   "source": [
    "group_names = ('Treated', 'Control')\n",
    "\n",
    "# Create a dataframe to store the CV results\n",
    "df_cv_tlearner = pd.DataFrame(\n",
    "    index=pd.MultiIndex.from_product([dataset_names, rcv_config.keys()]),\n",
    "    columns=pd.MultiIndex.from_product([group_names, ('train', 'test', 'cv_model')])\n",
    ")"
   ]
  },
  {
   "cell_type": "code",
   "execution_count": 103,
   "metadata": {},
   "outputs": [
    {
     "name": "stdout",
     "output_type": "stream",
     "text": [
      "data1-Treated\tmodel=ridge\tbest_params={'model__alpha': 9.695997255303146}\n",
      "data1-Control\tmodel=ridge\tbest_params={'model__alpha': 9.89505398323565}\n",
      "data1-Treated\tmodel=lasso\tbest_params={'model__alpha': 0.052343209114349344}\n",
      "data1-Control\tmodel=lasso\tbest_params={'model__alpha': 0.033385055114052924}\n",
      "data1-Treated\tmodel=gbm\tbest_params={'model__learning_rate': 0.18922765860438318, 'model__max_depth': 3, 'model__n_estimators': 49}\n",
      "data1-Control\tmodel=gbm\tbest_params={'model__learning_rate': 0.296268448430213, 'model__max_depth': 2, 'model__n_estimators': 45}\n",
      "data1-Treated\tmodel=mlp\tbest_params={'model__activation': 'tanh', 'model__alpha': 0.01428990820943894, 'model__hidden_layer_sizes': (4, 50)}\n",
      "data1-Control\tmodel=mlp\tbest_params={'model__activation': 'logistic', 'model__alpha': 9.89505398323565, 'model__hidden_layer_sizes': (26,)}\n",
      "data2-Treated\tmodel=ridge\tbest_params={'model__alpha': 9.89505398323565}\n",
      "data2-Control\tmodel=ridge\tbest_params={'model__alpha': 8.964330858424626}\n",
      "data2-Treated\tmodel=lasso\tbest_params={'model__alpha': 0.20689476838221282}\n",
      "data2-Control\tmodel=lasso\tbest_params={'model__alpha': 0.0697093167416419}\n",
      "data2-Treated\tmodel=gbm\tbest_params={'model__learning_rate': 0.43324727002829333, 'model__max_depth': 3, 'model__n_estimators': 28}\n",
      "data2-Control\tmodel=gbm\tbest_params={'model__learning_rate': 0.4592532415205829, 'model__max_depth': 2, 'model__n_estimators': 40}\n",
      "data2-Treated\tmodel=mlp\tbest_params={'model__activation': 'relu', 'model__alpha': 0.4640563245180149, 'model__hidden_layer_sizes': (10, 48, 26)}\n",
      "data2-Control\tmodel=mlp\tbest_params={'model__activation': 'logistic', 'model__alpha': 8.749626191532652, 'model__hidden_layer_sizes': (37,)}\n"
     ]
    },
    {
     "data": {
      "text/html": [
       "<div>\n",
       "<style scoped>\n",
       "    .dataframe tbody tr th:only-of-type {\n",
       "        vertical-align: middle;\n",
       "    }\n",
       "\n",
       "    .dataframe tbody tr th {\n",
       "        vertical-align: top;\n",
       "    }\n",
       "\n",
       "    .dataframe thead tr th {\n",
       "        text-align: left;\n",
       "    }\n",
       "</style>\n",
       "<table border=\"1\" class=\"dataframe\">\n",
       "  <thead>\n",
       "    <tr>\n",
       "      <th></th>\n",
       "      <th></th>\n",
       "      <th colspan=\"2\" halign=\"left\">Treated</th>\n",
       "      <th colspan=\"2\" halign=\"left\">Control</th>\n",
       "    </tr>\n",
       "    <tr>\n",
       "      <th></th>\n",
       "      <th></th>\n",
       "      <th>train</th>\n",
       "      <th>test</th>\n",
       "      <th>train</th>\n",
       "      <th>test</th>\n",
       "    </tr>\n",
       "  </thead>\n",
       "  <tbody>\n",
       "    <tr>\n",
       "      <th rowspan=\"4\" valign=\"top\">data1</th>\n",
       "      <th>ridge</th>\n",
       "      <td>0.406122</td>\n",
       "      <td>0.354334</td>\n",
       "      <td>0.706333</td>\n",
       "      <td>0.710004</td>\n",
       "    </tr>\n",
       "    <tr>\n",
       "      <th>lasso</th>\n",
       "      <td>0.399361</td>\n",
       "      <td>0.362423</td>\n",
       "      <td>0.703066</td>\n",
       "      <td>0.717551</td>\n",
       "    </tr>\n",
       "    <tr>\n",
       "      <th>gbm</th>\n",
       "      <td>0.966118</td>\n",
       "      <td>0.960104</td>\n",
       "      <td>0.949131</td>\n",
       "      <td>0.923912</td>\n",
       "    </tr>\n",
       "    <tr>\n",
       "      <th>mlp</th>\n",
       "      <td>0.962664</td>\n",
       "      <td>0.947275</td>\n",
       "      <td>0.965264</td>\n",
       "      <td>0.847459</td>\n",
       "    </tr>\n",
       "    <tr>\n",
       "      <th rowspan=\"4\" valign=\"top\">data2</th>\n",
       "      <th>ridge</th>\n",
       "      <td>0.26345</td>\n",
       "      <td>0.221716</td>\n",
       "      <td>0.505951</td>\n",
       "      <td>0.444844</td>\n",
       "    </tr>\n",
       "    <tr>\n",
       "      <th>lasso</th>\n",
       "      <td>0.226745</td>\n",
       "      <td>0.212872</td>\n",
       "      <td>0.483502</td>\n",
       "      <td>0.441075</td>\n",
       "    </tr>\n",
       "    <tr>\n",
       "      <th>gbm</th>\n",
       "      <td>0.977909</td>\n",
       "      <td>0.953377</td>\n",
       "      <td>0.924748</td>\n",
       "      <td>0.89875</td>\n",
       "    </tr>\n",
       "    <tr>\n",
       "      <th>mlp</th>\n",
       "      <td>0.970178</td>\n",
       "      <td>0.925333</td>\n",
       "      <td>0.958718</td>\n",
       "      <td>0.827803</td>\n",
       "    </tr>\n",
       "  </tbody>\n",
       "</table>\n",
       "</div>"
      ],
      "text/plain": [
       "              Treated             Control          \n",
       "                train      test     train      test\n",
       "data1 ridge  0.406122  0.354334  0.706333  0.710004\n",
       "      lasso  0.399361  0.362423  0.703066  0.717551\n",
       "      gbm    0.966118  0.960104  0.949131  0.923912\n",
       "      mlp    0.962664  0.947275  0.965264  0.847459\n",
       "data2 ridge   0.26345  0.221716  0.505951  0.444844\n",
       "      lasso  0.226745  0.212872  0.483502  0.441075\n",
       "      gbm    0.977909  0.953377  0.924748   0.89875\n",
       "      mlp    0.970178  0.925333  0.958718  0.827803"
      ]
     },
     "execution_count": 103,
     "metadata": {},
     "output_type": "execute_result"
    }
   ],
   "source": [
    "# Run each CV configuration\n",
    "for i, df in enumerate(dataframes_cs):\n",
    "    X, y, t = get_training_data(df)\n",
    "    idx_treat = t == 1\n",
    "    \n",
    "    for model_name, cv_cfg in rcv_config.items():\n",
    "        \n",
    "        # Apply CV-based fitting in each group\n",
    "        for k, idx in enumerate((idx_treat, ~idx_treat)):\n",
    "            common_args = dict(random_state=42042+i+k, interaction=None, test_size=0.3,\n",
    "                               cv_splits=3, n_iter=42)\n",
    "            \n",
    "            model, train_score, test_score = fit_slearner_cv(\n",
    "                cv_cfg, X[idx], y[idx], t[idx], **common_args\n",
    "            )\n",
    "            \n",
    "            df_cv_tlearner.loc[(dataset_names[i], model_name), group_names[k]] = [\n",
    "                train_score, test_score, model\n",
    "            ]\n",
    "        \n",
    "            print(f'{dataset_names[i]}-{group_names[k]}\\tmodel={model_name}\\tbest_params={model.best_params_}')\n",
    "\n",
    "df_cv_tlearner.loc[:, pd.IndexSlice[:, ('train', 'test')]]"
   ]
  },
  {
   "cell_type": "markdown",
   "metadata": {},
   "source": [
    "The table above shows the $R^2$ score of the different models on the train set (70% of the data) and test set (30%).\n",
    "As before, the non-linear models produce much better results than the linear models,\n",
    "and specifically the GBM seems to perform best in all cases.\n",
    "We will select the best model separately for each group and dataset based on the test-set score, so in total we'll have four best-fitted regression models.\n",
    "\n",
    "We now use the best models to estimate the ATT in each dataset.\n",
    "We'll again use the propensity scores $\\hat e(\\vec{x})$ to obtain a doubly-robust (DR) estimator,\n",
    "but this time it uses a different model in each group:\n",
    "\n",
    "$$\n",
    "\\widehat{\\mathrm{ATT}}_{DR} = \n",
    "\\frac{1}{\\left|\\cset{T}\\right|} \\sum_{i\\in\\cset{T}}\n",
    "\\left[\n",
    "    \\frac{t_i y_i}{\\hat e(\\vec{x}_i)} - \\frac{t_i - \\hat e(\\vec{x}_i)}{\\hat e(\\vec{x}_i)}\\cdot f_1(\\vec{x}_i)\n",
    "\\right]\n",
    "-\n",
    "\\frac{1}{\\left|\\cset{T}\\right|} \\sum_{i\\in\\cset{T}}\n",
    "\\left[\n",
    "    \\frac{(1-t_i)y_i}{1-\\hat e(\\vec{x}_i)} + \\frac{t_i-\\hat e(\\vec{x}_i)}{1-\\hat e(\\vec{x}_i)}\\cdot f_0(\\vec{x}_i)\n",
    "\\right].\n",
    "$$"
   ]
  },
  {
   "cell_type": "code",
   "execution_count": 104,
   "metadata": {},
   "outputs": [
    {
     "name": "stdout",
     "output_type": "stream",
     "text": [
      "data1-Treated: estimating with gbm{'model__learning_rate': 0.18922765860438318, 'model__max_depth': 3, 'model__n_estimators': 49}\n",
      "data1-Control: estimating with gbm{'model__learning_rate': 0.296268448430213, 'model__max_depth': 2, 'model__n_estimators': 45}\n",
      "data2-Treated: estimating with gbm{'model__learning_rate': 0.43324727002829333, 'model__max_depth': 3, 'model__n_estimators': 28}\n",
      "data2-Control: estimating with gbm{'model__learning_rate': 0.4592532415205829, 'model__max_depth': 2, 'model__n_estimators': 40}\n"
     ]
    },
    {
     "data": {
      "text/html": [
       "<div>\n",
       "<style scoped>\n",
       "    .dataframe tbody tr th:only-of-type {\n",
       "        vertical-align: middle;\n",
       "    }\n",
       "\n",
       "    .dataframe tbody tr th {\n",
       "        vertical-align: top;\n",
       "    }\n",
       "\n",
       "    .dataframe thead th {\n",
       "        text-align: right;\n",
       "    }\n",
       "</style>\n",
       "<table border=\"1\" class=\"dataframe\">\n",
       "  <thead>\n",
       "    <tr style=\"text-align: right;\">\n",
       "      <th></th>\n",
       "      <th>ipw</th>\n",
       "      <th>s_learner</th>\n",
       "      <th>t_learner</th>\n",
       "    </tr>\n",
       "  </thead>\n",
       "  <tbody>\n",
       "    <tr>\n",
       "      <th>data1</th>\n",
       "      <td>4.733163</td>\n",
       "      <td>4.378923</td>\n",
       "      <td>4.280042</td>\n",
       "    </tr>\n",
       "    <tr>\n",
       "      <th>data2</th>\n",
       "      <td>3.598402</td>\n",
       "      <td>2.379601</td>\n",
       "      <td>2.588901</td>\n",
       "    </tr>\n",
       "  </tbody>\n",
       "</table>\n",
       "</div>"
      ],
      "text/plain": [
       "            ipw  s_learner  t_learner\n",
       "data1  4.733163   4.378923   4.280042\n",
       "data2  3.598402   2.379601   2.588901"
      ]
     },
     "execution_count": 104,
     "metadata": {},
     "output_type": "execute_result"
    }
   ],
   "source": [
    "# Estimate ATT with T-Learner, using best fitted model for each dataset and group.\n",
    "df_att_results['t_learner'] = float('nan')\n",
    "\n",
    "for i, df in enumerate(dataframes_cs):\n",
    "    # Get data\n",
    "    X, y, t = get_training_data(df)\n",
    "    prop = df['propensity'].to_numpy()\n",
    "    \n",
    "    # Loop over treatment/control groups and get the best model\n",
    "    best_models = {}\n",
    "    for group_name in group_names:\n",
    "        \n",
    "        # Get index of best model based on test-set score on the current dataset and group\n",
    "        imax = df_cv_tlearner.loc[pd.IndexSlice[dataset_names[i],:],\n",
    "                                  pd.IndexSlice[group_name, 'test']].astype(float).idxmax()\n",
    "        \n",
    "        # Save best model for this group\n",
    "        model_name = imax[-1]\n",
    "        model = df_cv_tlearner.loc[imax,(group_name, 'cv_model')]\n",
    "        best_models[group_name] = model\n",
    "        \n",
    "        print(f'{dataset_names[i]}-{group_name}: estimating with {model_name}{model.best_params_}')\n",
    "\n",
    "    # Estimate the ATT using the two best models for this dataset\n",
    "    est_att = att.t_learner(\n",
    "        best_models[group_names[0]], best_models[group_names[1]],\n",
    "        X, y, t, propensity=prop\n",
    "    )\n",
    "    df_att_results['t_learner'][i] = est_att\n",
    "    \n",
    "df_att_results"
   ]
  },
  {
   "cell_type": "code",
   "execution_count": null,
   "metadata": {},
   "outputs": [],
   "source": []
  },
  {
   "cell_type": "code",
   "execution_count": null,
   "metadata": {},
   "outputs": [],
   "source": []
  }
 ],
 "metadata": {
  "kernelspec": {
   "display_name": "PyCharm (hw3)",
   "language": "python",
   "name": "pycharm-a563818b"
  },
  "language_info": {
   "codemirror_mode": {
    "name": "ipython",
    "version": 3
   },
   "file_extension": ".py",
   "mimetype": "text/x-python",
   "name": "python",
   "nbconvert_exporter": "python",
   "pygments_lexer": "ipython3",
   "version": "3.7.3"
  },
  "pycharm": {
   "stem_cell": {
    "cell_type": "raw",
    "metadata": {
     "collapsed": false
    },
    "source": []
   }
  }
 },
 "nbformat": 4,
 "nbformat_minor": 2
}
