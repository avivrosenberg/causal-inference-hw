{
 "cells": [
  {
   "cell_type": "markdown",
   "metadata": {
    "pycharm": {
     "name": "#%% md\n"
    }
   },
   "source": [
    "$$\n",
    "\\newcommand{\\mat}[1]{\\boldsymbol {#1}}\n",
    "\\newcommand{\\mattr}[1]{\\boldsymbol {#1}^\\top}\n",
    "\\newcommand{\\matinv}[1]{\\boldsymbol {#1}^{-1}}\n",
    "\\renewcommand{\\vec}[1]{\\boldsymbol {#1}}\n",
    "\\newcommand{\\vectr}[1]{\\boldsymbol {#1}^\\top}\n",
    "\\newcommand{\\rvar}[1]{\\mathrm {#1}}\n",
    "\\newcommand{\\rvec}[1]{\\boldsymbol{\\mathrm{#1}}}\n",
    "\\newcommand{\\diag}{\\mathop{\\mathrm {diag}}}\n",
    "\\newcommand{\\set}[1]{\\mathbb {#1}}\n",
    "\\newcommand{\\cset}[1]{\\mathcal {#1}}\n",
    "\\newcommand{\\norm}[1]{\\left\\lVert#1\\right\\rVert}\n",
    "\\newcommand{\\abs}[1]{\\left\\lvert#1\\right\\rvert}\n",
    "\\newcommand{\\pderiv}[2]{\\frac{\\partial #1}{\\partial #2}}\n",
    "\\newcommand{\\bb}[1]{\\boldsymbol{#1}}\n",
    "\\newcommand{\\Tr}[0]{^\\top}\n",
    "\\newcommand{\\grad}[0]{\\nabla}\n",
    "\\newcommand{\\E}[2][]{\\mathbb{E}_{#1}\\left[#2\\right]}\n",
    "\\newcommand{\\ip}[3]{\\left<#1,#2\\right>_{#3}}\n",
    "\\newcommand{\\given}[0]{\\middle\\vert}\n",
    "\\newcommand{\\DKL}[2]{\\cset{D}_{\\text{KL}}\\left(#1\\,\\Vert\\, #2\\right)}\n",
    "\\DeclareMathOperator*{\\argmax}{arg\\,max}\n",
    "\\DeclareMathOperator*{\\argmin}{arg\\,min}\n",
    "\\DeclareMathOperator*{\\trace}{trace}\n",
    "\\newcommand{\\1}[1]{\\mathbb{I}\\left\\{#1\\right\\}}\n",
    "\\newcommand{\\setof}[1]{\\left\\{#1\\right\\}}\n",
    "\\newcommand{\\DO}[1]{\\mathrm{do}\\left(#1\\right)}\n",
    "\\newcommand{\\indep}{\\perp \\!\\!\\! \\perp}\n",
    "$$\n",
    "\n",
    "\n",
    "# <center>Causal Inference 097400, Winter 2019-20<br><br>Homework 3</center>\n",
    "\n",
    "#### <center>Aviv Rosenberg<br>`avivr@cs`</center>\n",
    "\n",
    "##### <center>January 5, 2020<br></center>\n"
   ]
  },
  {
   "cell_type": "markdown",
   "metadata": {},
   "source": [
    "The code implementing the assignment is in the `hw3` package right next to this notebook.\n",
    "\n",
    "The structure of this project is:\n",
    "```\n",
    "+\n",
    "|- data/                # Folder for raw data files\n",
    "|- out/                 # Output folder where result CSVs are saved\n",
    "|- hw3/\n",
    "|---- data.py           # Data loading and preprocessing\n",
    "|---- propensity.py     # Propensity score estimation\n",
    "|---- att.py            # Calculation of ATT\n",
    "|---- cv.py             # Cross-validation for fitting various models\n",
    "|- hw3.ipynb            # Notebook that runs the code and displays results\n",
    "```"
   ]
  },
  {
   "cell_type": "code",
   "execution_count": 1,
   "metadata": {
    "pycharm": {
     "is_executing": false
    }
   },
   "outputs": [
    {
     "name": "stdout",
     "output_type": "stream",
     "text": [
      "The autoreload extension is already loaded. To reload it, use:\n",
      "  %reload_ext autoreload\n"
     ]
    }
   ],
   "source": [
    "%load_ext autoreload\n",
    "%autoreload 2\n",
    "\n",
    "import os\n",
    "import numpy as np\n",
    "import pandas as pd\n",
    "\n",
    "DATA_FILE1 = 'data/data1.csv'\n",
    "DATA_FILE2 = 'data/data2.csv'\n",
    "OUT_DIR = 'out/'\n",
    "\n",
    "os.makedirs(OUT_DIR, exist_ok=True)"
   ]
  },
  {
   "cell_type": "code",
   "execution_count": 2,
   "metadata": {},
   "outputs": [],
   "source": [
    "import matplotlib.pyplot as plt\n",
    "plt.rcParams['font.size'] = 14"
   ]
  },
  {
   "cell_type": "markdown",
   "metadata": {},
   "source": [
    "## Part 1: Loading the data"
   ]
  },
  {
   "cell_type": "markdown",
   "metadata": {},
   "source": [
    "Here we're just loading the raw CSV files."
   ]
  },
  {
   "cell_type": "code",
   "execution_count": 131,
   "metadata": {},
   "outputs": [
    {
     "data": {
      "text/html": [
       "<div>\n",
       "<style scoped>\n",
       "    .dataframe tbody tr th:only-of-type {\n",
       "        vertical-align: middle;\n",
       "    }\n",
       "\n",
       "    .dataframe tbody tr th {\n",
       "        vertical-align: top;\n",
       "    }\n",
       "\n",
       "    .dataframe thead th {\n",
       "        text-align: right;\n",
       "    }\n",
       "</style>\n",
       "<table border=\"1\" class=\"dataframe\">\n",
       "  <thead>\n",
       "    <tr style=\"text-align: right;\">\n",
       "      <th></th>\n",
       "      <th>x_1</th>\n",
       "      <th>x_2</th>\n",
       "      <th>x_3</th>\n",
       "      <th>x_4</th>\n",
       "      <th>x_5</th>\n",
       "      <th>x_6</th>\n",
       "      <th>x_7</th>\n",
       "      <th>x_8</th>\n",
       "      <th>x_9</th>\n",
       "      <th>x_10</th>\n",
       "      <th>...</th>\n",
       "      <th>x_51</th>\n",
       "      <th>x_52</th>\n",
       "      <th>x_53</th>\n",
       "      <th>x_54</th>\n",
       "      <th>x_55</th>\n",
       "      <th>x_56</th>\n",
       "      <th>x_57</th>\n",
       "      <th>x_58</th>\n",
       "      <th>T</th>\n",
       "      <th>Y</th>\n",
       "    </tr>\n",
       "  </thead>\n",
       "  <tbody>\n",
       "    <tr>\n",
       "      <th>4797</th>\n",
       "      <td>21</td>\n",
       "      <td>C</td>\n",
       "      <td>0.0</td>\n",
       "      <td>0.0</td>\n",
       "      <td>67</td>\n",
       "      <td>140</td>\n",
       "      <td>0</td>\n",
       "      <td>0</td>\n",
       "      <td>2</td>\n",
       "      <td>0</td>\n",
       "      <td>...</td>\n",
       "      <td>0</td>\n",
       "      <td>0</td>\n",
       "      <td>0</td>\n",
       "      <td>0</td>\n",
       "      <td>0</td>\n",
       "      <td>1</td>\n",
       "      <td>47</td>\n",
       "      <td>39</td>\n",
       "      <td>0</td>\n",
       "      <td>-1.452833</td>\n",
       "    </tr>\n",
       "    <tr>\n",
       "      <th>4798</th>\n",
       "      <td>24</td>\n",
       "      <td>E</td>\n",
       "      <td>0.0</td>\n",
       "      <td>0.0</td>\n",
       "      <td>62</td>\n",
       "      <td>130</td>\n",
       "      <td>0</td>\n",
       "      <td>0</td>\n",
       "      <td>0</td>\n",
       "      <td>0</td>\n",
       "      <td>...</td>\n",
       "      <td>0</td>\n",
       "      <td>0</td>\n",
       "      <td>0</td>\n",
       "      <td>0</td>\n",
       "      <td>0</td>\n",
       "      <td>1</td>\n",
       "      <td>46</td>\n",
       "      <td>40</td>\n",
       "      <td>0</td>\n",
       "      <td>-10.182280</td>\n",
       "    </tr>\n",
       "    <tr>\n",
       "      <th>4799</th>\n",
       "      <td>33</td>\n",
       "      <td>C</td>\n",
       "      <td>5.0</td>\n",
       "      <td>15.0</td>\n",
       "      <td>63</td>\n",
       "      <td>137</td>\n",
       "      <td>0</td>\n",
       "      <td>0</td>\n",
       "      <td>0</td>\n",
       "      <td>0</td>\n",
       "      <td>...</td>\n",
       "      <td>0</td>\n",
       "      <td>0</td>\n",
       "      <td>0</td>\n",
       "      <td>0</td>\n",
       "      <td>0</td>\n",
       "      <td>0</td>\n",
       "      <td>46</td>\n",
       "      <td>38</td>\n",
       "      <td>0</td>\n",
       "      <td>0.441606</td>\n",
       "    </tr>\n",
       "    <tr>\n",
       "      <th>4800</th>\n",
       "      <td>36</td>\n",
       "      <td>C</td>\n",
       "      <td>10.0</td>\n",
       "      <td>22.0</td>\n",
       "      <td>60</td>\n",
       "      <td>110</td>\n",
       "      <td>0</td>\n",
       "      <td>0</td>\n",
       "      <td>1</td>\n",
       "      <td>0</td>\n",
       "      <td>...</td>\n",
       "      <td>0</td>\n",
       "      <td>0</td>\n",
       "      <td>0</td>\n",
       "      <td>0</td>\n",
       "      <td>0</td>\n",
       "      <td>0</td>\n",
       "      <td>46</td>\n",
       "      <td>38</td>\n",
       "      <td>0</td>\n",
       "      <td>-1.336014</td>\n",
       "    </tr>\n",
       "    <tr>\n",
       "      <th>4801</th>\n",
       "      <td>18</td>\n",
       "      <td>C</td>\n",
       "      <td>0.0</td>\n",
       "      <td>0.0</td>\n",
       "      <td>65</td>\n",
       "      <td>110</td>\n",
       "      <td>0</td>\n",
       "      <td>0</td>\n",
       "      <td>0</td>\n",
       "      <td>0</td>\n",
       "      <td>...</td>\n",
       "      <td>0</td>\n",
       "      <td>0</td>\n",
       "      <td>0</td>\n",
       "      <td>0</td>\n",
       "      <td>0</td>\n",
       "      <td>0</td>\n",
       "      <td>45</td>\n",
       "      <td>37</td>\n",
       "      <td>0</td>\n",
       "      <td>8.828653</td>\n",
       "    </tr>\n",
       "  </tbody>\n",
       "</table>\n",
       "<p>5 rows × 60 columns</p>\n",
       "</div>"
      ],
      "text/plain": [
       "      x_1 x_2   x_3   x_4  x_5  x_6  x_7  x_8  x_9  x_10  ...  x_51  x_52  \\\n",
       "4797   21   C   0.0   0.0   67  140    0    0    2     0  ...     0     0   \n",
       "4798   24   E   0.0   0.0   62  130    0    0    0     0  ...     0     0   \n",
       "4799   33   C   5.0  15.0   63  137    0    0    0     0  ...     0     0   \n",
       "4800   36   C  10.0  22.0   60  110    0    0    1     0  ...     0     0   \n",
       "4801   18   C   0.0   0.0   65  110    0    0    0     0  ...     0     0   \n",
       "\n",
       "      x_53  x_54  x_55  x_56  x_57  x_58  T          Y  \n",
       "4797     0     0     0     1    47    39  0  -1.452833  \n",
       "4798     0     0     0     1    46    40  0 -10.182280  \n",
       "4799     0     0     0     0    46    38  0   0.441606  \n",
       "4800     0     0     0     0    46    38  0  -1.336014  \n",
       "4801     0     0     0     0    45    37  0   8.828653  \n",
       "\n",
       "[5 rows x 60 columns]"
      ]
     },
     "execution_count": 131,
     "metadata": {},
     "output_type": "execute_result"
    }
   ],
   "source": [
    "from hw3.data import load_data, encode_categorical, get_training_data\n",
    "    \n",
    "df1 = load_data(DATA_FILE1)\n",
    "df2 = load_data(DATA_FILE2)\n",
    "\n",
    "df1.tail(5)"
   ]
  },
  {
   "cell_type": "markdown",
   "metadata": {},
   "source": [
    " Some variables in the dataset (e.g. `x_2`) are given as categorical values, so we encode these as sequential integers."
   ]
  },
  {
   "cell_type": "code",
   "execution_count": 132,
   "metadata": {
    "pycharm": {
     "is_executing": false,
     "name": "#%%\n"
    }
   },
   "outputs": [
    {
     "data": {
      "text/html": [
       "<div>\n",
       "<style scoped>\n",
       "    .dataframe tbody tr th:only-of-type {\n",
       "        vertical-align: middle;\n",
       "    }\n",
       "\n",
       "    .dataframe tbody tr th {\n",
       "        vertical-align: top;\n",
       "    }\n",
       "\n",
       "    .dataframe thead th {\n",
       "        text-align: right;\n",
       "    }\n",
       "</style>\n",
       "<table border=\"1\" class=\"dataframe\">\n",
       "  <thead>\n",
       "    <tr style=\"text-align: right;\">\n",
       "      <th></th>\n",
       "      <th>x_1</th>\n",
       "      <th>x_2</th>\n",
       "      <th>x_3</th>\n",
       "      <th>x_4</th>\n",
       "      <th>x_5</th>\n",
       "      <th>x_6</th>\n",
       "      <th>x_7</th>\n",
       "      <th>x_8</th>\n",
       "      <th>x_9</th>\n",
       "      <th>x_10</th>\n",
       "      <th>...</th>\n",
       "      <th>x_51</th>\n",
       "      <th>x_52</th>\n",
       "      <th>x_53</th>\n",
       "      <th>x_54</th>\n",
       "      <th>x_55</th>\n",
       "      <th>x_56</th>\n",
       "      <th>x_57</th>\n",
       "      <th>x_58</th>\n",
       "      <th>T</th>\n",
       "      <th>Y</th>\n",
       "    </tr>\n",
       "  </thead>\n",
       "  <tbody>\n",
       "    <tr>\n",
       "      <th>4797</th>\n",
       "      <td>21</td>\n",
       "      <td>2.0</td>\n",
       "      <td>0.0</td>\n",
       "      <td>0.0</td>\n",
       "      <td>67</td>\n",
       "      <td>140</td>\n",
       "      <td>0</td>\n",
       "      <td>0</td>\n",
       "      <td>2</td>\n",
       "      <td>0</td>\n",
       "      <td>...</td>\n",
       "      <td>0</td>\n",
       "      <td>0</td>\n",
       "      <td>0</td>\n",
       "      <td>0</td>\n",
       "      <td>0</td>\n",
       "      <td>1</td>\n",
       "      <td>47</td>\n",
       "      <td>39</td>\n",
       "      <td>0</td>\n",
       "      <td>-1.452833</td>\n",
       "    </tr>\n",
       "    <tr>\n",
       "      <th>4798</th>\n",
       "      <td>24</td>\n",
       "      <td>4.0</td>\n",
       "      <td>0.0</td>\n",
       "      <td>0.0</td>\n",
       "      <td>62</td>\n",
       "      <td>130</td>\n",
       "      <td>0</td>\n",
       "      <td>0</td>\n",
       "      <td>0</td>\n",
       "      <td>0</td>\n",
       "      <td>...</td>\n",
       "      <td>0</td>\n",
       "      <td>0</td>\n",
       "      <td>0</td>\n",
       "      <td>0</td>\n",
       "      <td>0</td>\n",
       "      <td>1</td>\n",
       "      <td>46</td>\n",
       "      <td>40</td>\n",
       "      <td>0</td>\n",
       "      <td>-10.182280</td>\n",
       "    </tr>\n",
       "    <tr>\n",
       "      <th>4799</th>\n",
       "      <td>33</td>\n",
       "      <td>2.0</td>\n",
       "      <td>5.0</td>\n",
       "      <td>15.0</td>\n",
       "      <td>63</td>\n",
       "      <td>137</td>\n",
       "      <td>0</td>\n",
       "      <td>0</td>\n",
       "      <td>0</td>\n",
       "      <td>0</td>\n",
       "      <td>...</td>\n",
       "      <td>0</td>\n",
       "      <td>0</td>\n",
       "      <td>0</td>\n",
       "      <td>0</td>\n",
       "      <td>0</td>\n",
       "      <td>0</td>\n",
       "      <td>46</td>\n",
       "      <td>38</td>\n",
       "      <td>0</td>\n",
       "      <td>0.441606</td>\n",
       "    </tr>\n",
       "    <tr>\n",
       "      <th>4800</th>\n",
       "      <td>36</td>\n",
       "      <td>2.0</td>\n",
       "      <td>10.0</td>\n",
       "      <td>22.0</td>\n",
       "      <td>60</td>\n",
       "      <td>110</td>\n",
       "      <td>0</td>\n",
       "      <td>0</td>\n",
       "      <td>1</td>\n",
       "      <td>0</td>\n",
       "      <td>...</td>\n",
       "      <td>0</td>\n",
       "      <td>0</td>\n",
       "      <td>0</td>\n",
       "      <td>0</td>\n",
       "      <td>0</td>\n",
       "      <td>0</td>\n",
       "      <td>46</td>\n",
       "      <td>38</td>\n",
       "      <td>0</td>\n",
       "      <td>-1.336014</td>\n",
       "    </tr>\n",
       "    <tr>\n",
       "      <th>4801</th>\n",
       "      <td>18</td>\n",
       "      <td>2.0</td>\n",
       "      <td>0.0</td>\n",
       "      <td>0.0</td>\n",
       "      <td>65</td>\n",
       "      <td>110</td>\n",
       "      <td>0</td>\n",
       "      <td>0</td>\n",
       "      <td>0</td>\n",
       "      <td>0</td>\n",
       "      <td>...</td>\n",
       "      <td>0</td>\n",
       "      <td>0</td>\n",
       "      <td>0</td>\n",
       "      <td>0</td>\n",
       "      <td>0</td>\n",
       "      <td>0</td>\n",
       "      <td>45</td>\n",
       "      <td>37</td>\n",
       "      <td>0</td>\n",
       "      <td>8.828653</td>\n",
       "    </tr>\n",
       "  </tbody>\n",
       "</table>\n",
       "<p>5 rows × 60 columns</p>\n",
       "</div>"
      ],
      "text/plain": [
       "      x_1  x_2   x_3   x_4  x_5  x_6  x_7  x_8  x_9  x_10  ...  x_51  x_52  \\\n",
       "4797   21  2.0   0.0   0.0   67  140    0    0    2     0  ...     0     0   \n",
       "4798   24  4.0   0.0   0.0   62  130    0    0    0     0  ...     0     0   \n",
       "4799   33  2.0   5.0  15.0   63  137    0    0    0     0  ...     0     0   \n",
       "4800   36  2.0  10.0  22.0   60  110    0    0    1     0  ...     0     0   \n",
       "4801   18  2.0   0.0   0.0   65  110    0    0    0     0  ...     0     0   \n",
       "\n",
       "      x_53  x_54  x_55  x_56  x_57  x_58  T          Y  \n",
       "4797     0     0     0     1    47    39  0  -1.452833  \n",
       "4798     0     0     0     1    46    40  0 -10.182280  \n",
       "4799     0     0     0     0    46    38  0   0.441606  \n",
       "4800     0     0     0     0    46    38  0  -1.336014  \n",
       "4801     0     0     0     0    45    37  0   8.828653  \n",
       "\n",
       "[5 rows x 60 columns]"
      ]
     },
     "execution_count": 132,
     "metadata": {},
     "output_type": "execute_result"
    }
   ],
   "source": [
    "df1 = encode_categorical(df1)\n",
    "df2 = encode_categorical(df2)\n",
    "\n",
    "dataframes = (df1, df2)\n",
    "dataset_names = ('data1', 'data2')\n",
    "\n",
    "df1.tail(5)"
   ]
  },
  {
   "cell_type": "markdown",
   "metadata": {},
   "source": [
    "Let's take a look at the outcome distribution among the treatment and control groups."
   ]
  },
  {
   "cell_type": "code",
   "execution_count": 135,
   "metadata": {},
   "outputs": [
    {
     "name": "stdout",
     "output_type": "stream",
     "text": [
      "data1 outcome:\n"
     ]
    },
    {
     "data": {
      "text/html": [
       "<div>\n",
       "<style scoped>\n",
       "    .dataframe tbody tr th:only-of-type {\n",
       "        vertical-align: middle;\n",
       "    }\n",
       "\n",
       "    .dataframe tbody tr th {\n",
       "        vertical-align: top;\n",
       "    }\n",
       "\n",
       "    .dataframe thead th {\n",
       "        text-align: right;\n",
       "    }\n",
       "</style>\n",
       "<table border=\"1\" class=\"dataframe\">\n",
       "  <thead>\n",
       "    <tr style=\"text-align: right;\">\n",
       "      <th></th>\n",
       "      <th>mean</th>\n",
       "      <th>std</th>\n",
       "      <th>median</th>\n",
       "      <th>count</th>\n",
       "    </tr>\n",
       "    <tr>\n",
       "      <th>T</th>\n",
       "      <th></th>\n",
       "      <th></th>\n",
       "      <th></th>\n",
       "      <th></th>\n",
       "    </tr>\n",
       "  </thead>\n",
       "  <tbody>\n",
       "    <tr>\n",
       "      <th>0</th>\n",
       "      <td>8.251061</td>\n",
       "      <td>5.548459</td>\n",
       "      <td>8.357503</td>\n",
       "      <td>1529</td>\n",
       "    </tr>\n",
       "    <tr>\n",
       "      <th>1</th>\n",
       "      <td>13.667329</td>\n",
       "      <td>5.827545</td>\n",
       "      <td>15.069250</td>\n",
       "      <td>3273</td>\n",
       "    </tr>\n",
       "  </tbody>\n",
       "</table>\n",
       "</div>"
      ],
      "text/plain": [
       "        mean       std     median  count\n",
       "T                                       \n",
       "0   8.251061  5.548459   8.357503   1529\n",
       "1  13.667329  5.827545  15.069250   3273"
      ]
     },
     "metadata": {},
     "output_type": "display_data"
    },
    {
     "name": "stdout",
     "output_type": "stream",
     "text": [
      "data2 outcome:\n"
     ]
    },
    {
     "data": {
      "text/html": [
       "<div>\n",
       "<style scoped>\n",
       "    .dataframe tbody tr th:only-of-type {\n",
       "        vertical-align: middle;\n",
       "    }\n",
       "\n",
       "    .dataframe tbody tr th {\n",
       "        vertical-align: top;\n",
       "    }\n",
       "\n",
       "    .dataframe thead th {\n",
       "        text-align: right;\n",
       "    }\n",
       "</style>\n",
       "<table border=\"1\" class=\"dataframe\">\n",
       "  <thead>\n",
       "    <tr style=\"text-align: right;\">\n",
       "      <th></th>\n",
       "      <th>mean</th>\n",
       "      <th>std</th>\n",
       "      <th>median</th>\n",
       "      <th>count</th>\n",
       "    </tr>\n",
       "    <tr>\n",
       "      <th>T</th>\n",
       "      <th></th>\n",
       "      <th></th>\n",
       "      <th></th>\n",
       "      <th></th>\n",
       "    </tr>\n",
       "  </thead>\n",
       "  <tbody>\n",
       "    <tr>\n",
       "      <th>0</th>\n",
       "      <td>-0.512850</td>\n",
       "      <td>4.056643</td>\n",
       "      <td>-0.833142</td>\n",
       "      <td>2176</td>\n",
       "    </tr>\n",
       "    <tr>\n",
       "      <th>1</th>\n",
       "      <td>3.389848</td>\n",
       "      <td>6.422401</td>\n",
       "      <td>1.585648</td>\n",
       "      <td>2626</td>\n",
       "    </tr>\n",
       "  </tbody>\n",
       "</table>\n",
       "</div>"
      ],
      "text/plain": [
       "       mean       std    median  count\n",
       "T                                     \n",
       "0 -0.512850  4.056643 -0.833142   2176\n",
       "1  3.389848  6.422401  1.585648   2626"
      ]
     },
     "metadata": {},
     "output_type": "display_data"
    }
   ],
   "source": [
    "for i, df in enumerate(dataframes):\n",
    "    groups = df.groupby('T')\n",
    "    print(f'{dataset_names[i]} outcome:')\n",
    "    display(groups['Y'].agg(['mean','std','median','count']))"
   ]
  },
  {
   "cell_type": "code",
   "execution_count": 136,
   "metadata": {
    "pycharm": {
     "is_executing": false,
     "name": "#%%\n"
    }
   },
   "outputs": [
    {
     "data": {
      "image/png": "[encoded data removed]",
      "text/plain": [
       "<Figure size 1080x360 with 2 Axes>"
      ]
     },
     "metadata": {
      "needs_background": "light"
     },
     "output_type": "display_data"
    }
   ],
   "source": [
    "fig, ax = plt.subplots(nrows=1, ncols=len(dataframes), figsize=(15, 5))\n",
    "for i, df in enumerate(dataframes):\n",
    "    groups = df.groupby('T')\n",
    "    groups['Y'].plot(kind='hist', ax=ax[i], sharex=True, alpha=0.7, bins=50)\n",
    "    ax[i].set_title(f'{dataset_names[i]}')\n",
    "    ax[i].set_xlabel('Y (outcome)')\n",
    "    ax[i].grid(True)\n",
    "    ax[i].legend([f'T=0 (control)','T=1 (treated)'])"
   ]
  },
  {
   "cell_type": "markdown",
   "metadata": {},
   "source": [
    "In both datasets we can see a better outcome on average for the treated, but of course this does not prove a causal effect."
   ]
  },
  {
   "cell_type": "markdown",
   "metadata": {},
   "source": [
    "# Part 2: Propensity Estimation"
   ]
  },
  {
   "cell_type": "markdown",
   "metadata": {},
   "source": [
    "The *propensity score* is defined as $e(\\vec{x}):=\\Pr{\\left(\\rvar{T}=1\\given \\rvec{X}=\\vec{x}\\right)}$.\n",
    "In other words, it is the probability that a treatment $\\rvar{T}=1$ will be assigned to a\n",
    "unit with covariates $\\rvec{X}=\\vec{x}$."
   ]
  },
  {
   "cell_type": "markdown",
   "metadata": {},
   "source": [
    "We would like to obtain an estimator for the propensity score, $\\hat e(\\vec{x})$, from the data.\n",
    "One important aspect of this estimator is that we would like it to be *calibrated*.\n",
    "Briefly, this means that for if for example we look at all units $\\vec{x}$ such that $e(\\vec{x})=0.8$, we expect 80\\% of them to actually belong to the treatment group ($\\rvar{T}=1$).\n",
    "To estimate the propensities, we first fit a classification model to predict $\\rvar{T}$ from $\\rvec{X}$. We used the two most common models for propensity score estimation, logistic regression and gradient boosting machines.\n",
    "Then, for each fitted model we applied a calibration method to obtain a new model with better-calibrated probability outputs. The calibration is performed on a disjoint validation set which includes 20\\% of the data chosen at random but with stratification on $\\rvar{T}$. The propensity scores from the model with the lowest Brier score are used."
   ]
  },
  {
   "cell_type": "markdown",
   "metadata": {},
   "source": [
    "The following plots show the calibration curves of the logistic regression (top row) and the GBM models (bottom row).\n",
    "The ideal calibration is shown as a dotted line.\n",
    "For each classifier, two calibration methods, Platt and Isotonic Regression, are shown.\n",
    "In the legend, both the ROC-AUC score (`a`) and the Brier score (`b`) are reported as measures of the model's\n",
    "classification performance (higher is better) and de-calibration level (lower is better), respectively.\n",
    "We tried multiple hyper-parameter configurations for the different classifiers;\n",
    "the results were qualitatively very similar, so here we only report one configuration."
   ]
  },
  {
   "cell_type": "code",
   "execution_count": 137,
   "metadata": {
    "pycharm": {
     "is_executing": false,
     "name": "#%%\n"
    }
   },
   "outputs": [
    {
     "data": {
      "image/png": "[encoded data removed]",
      "text/plain": [
       "<Figure size 1152x432 with 2 Axes>"
      ]
     },
     "metadata": {
      "needs_background": "light"
     },
     "output_type": "display_data"
    },
    {
     "data": {
      "image/png": "[encoded data removed]",
      "text/plain": [
       "<Figure size 1152x432 with 2 Axes>"
      ]
     },
     "metadata": {
      "needs_background": "light"
     },
     "output_type": "display_data"
    }
   ],
   "source": [
    "from hw3.propensity import estimate_propensity\n",
    "\n",
    "methods = ('logistic', 'gbm')\n",
    "\n",
    "# Create a dataframe to store propensities from each dataset and each method\n",
    "midx = pd.MultiIndex.from_product([dataset_names, methods], names=['dataset', 'method'])\n",
    "df_propensity = pd.DataFrame(columns=midx)\n",
    "\n",
    "for method in methods:\n",
    "    fig, ax = plt.subplots(nrows=1, ncols=len(dataframes), figsize=(16, 6))\n",
    "    \n",
    "    for i, df in enumerate(dataframes):\n",
    "        # Get covariates X and treatment assignment t as numpy arrays\n",
    "        # Scale covariates to zero-mean and unit-variance.\n",
    "        X, _, t = get_training_data(df, scale_covariates=True)\n",
    "        \n",
    "        # Train a model to estimate propensity using current method,\n",
    "        # calibrate with two approaches and generate a calibration plot\n",
    "        prop = estimate_propensity(X, t, method=method, plot_args=dict(name=method, ax=ax[i]))\n",
    "        df_propensity[(dataset_names[i], method)] = prop\n",
    "        \n",
    "        ax[i].set_title(f'Data {i+1}')"
   ]
  },
  {
   "cell_type": "markdown",
   "metadata": {},
   "source": [
    "This gives us all the propensity scores from both methods:"
   ]
  },
  {
   "cell_type": "code",
   "execution_count": 138,
   "metadata": {},
   "outputs": [
    {
     "data": {
      "text/html": [
       "<div>\n",
       "<style scoped>\n",
       "    .dataframe tbody tr th:only-of-type {\n",
       "        vertical-align: middle;\n",
       "    }\n",
       "\n",
       "    .dataframe tbody tr th {\n",
       "        vertical-align: top;\n",
       "    }\n",
       "\n",
       "    .dataframe thead tr th {\n",
       "        text-align: left;\n",
       "    }\n",
       "</style>\n",
       "<table border=\"1\" class=\"dataframe\">\n",
       "  <thead>\n",
       "    <tr>\n",
       "      <th>dataset</th>\n",
       "      <th colspan=\"2\" halign=\"left\">data1</th>\n",
       "      <th colspan=\"2\" halign=\"left\">data2</th>\n",
       "    </tr>\n",
       "    <tr>\n",
       "      <th>method</th>\n",
       "      <th>logistic</th>\n",
       "      <th>gbm</th>\n",
       "      <th>logistic</th>\n",
       "      <th>gbm</th>\n",
       "    </tr>\n",
       "  </thead>\n",
       "  <tbody>\n",
       "    <tr>\n",
       "      <th>0</th>\n",
       "      <td>0.590791</td>\n",
       "      <td>0.652589</td>\n",
       "      <td>0.793703</td>\n",
       "      <td>0.586237</td>\n",
       "    </tr>\n",
       "    <tr>\n",
       "      <th>1</th>\n",
       "      <td>0.602378</td>\n",
       "      <td>0.678686</td>\n",
       "      <td>0.572188</td>\n",
       "      <td>0.557706</td>\n",
       "    </tr>\n",
       "    <tr>\n",
       "      <th>2</th>\n",
       "      <td>0.669680</td>\n",
       "      <td>0.678686</td>\n",
       "      <td>0.889300</td>\n",
       "      <td>0.586237</td>\n",
       "    </tr>\n",
       "    <tr>\n",
       "      <th>3</th>\n",
       "      <td>0.678316</td>\n",
       "      <td>0.678686</td>\n",
       "      <td>0.261771</td>\n",
       "      <td>0.494806</td>\n",
       "    </tr>\n",
       "    <tr>\n",
       "      <th>4</th>\n",
       "      <td>0.679771</td>\n",
       "      <td>0.678686</td>\n",
       "      <td>0.441302</td>\n",
       "      <td>0.561953</td>\n",
       "    </tr>\n",
       "  </tbody>\n",
       "</table>\n",
       "</div>"
      ],
      "text/plain": [
       "dataset     data1               data2          \n",
       "method   logistic       gbm  logistic       gbm\n",
       "0        0.590791  0.652589  0.793703  0.586237\n",
       "1        0.602378  0.678686  0.572188  0.557706\n",
       "2        0.669680  0.678686  0.889300  0.586237\n",
       "3        0.678316  0.678686  0.261771  0.494806\n",
       "4        0.679771  0.678686  0.441302  0.561953"
      ]
     },
     "execution_count": 138,
     "metadata": {},
     "output_type": "execute_result"
    }
   ],
   "source": [
    "df_propensity.head(5)"
   ]
  },
  {
   "cell_type": "markdown",
   "metadata": {},
   "source": [
    "We now plot the distribution of propensity scores between treated and control groups, for each estimation method, to visualize the propensity estimation results from both methods."
   ]
  },
  {
   "cell_type": "code",
   "execution_count": 139,
   "metadata": {},
   "outputs": [
    {
     "data": {
      "image/png": "[encoded data removed]",
      "text/plain": [
       "<Figure size 1080x360 with 2 Axes>"
      ]
     },
     "metadata": {
      "needs_background": "light"
     },
     "output_type": "display_data"
    },
    {
     "data": {
      "image/png": "[encoded data removed]",
      "text/plain": [
       "<Figure size 1080x360 with 2 Axes>"
      ]
     },
     "metadata": {
      "needs_background": "light"
     },
     "output_type": "display_data"
    }
   ],
   "source": [
    "for i, df in enumerate(dataframes):\n",
    "    fig, ax = plt.subplots(nrows=1, ncols=len(methods), figsize=(15, 5))\n",
    "    df_tmp = df.copy()\n",
    "    for j, method in enumerate(methods):\n",
    "        df_tmp['propensity'] = df_propensity[(dataset_names[i], method)]\n",
    "        groups = df_tmp.groupby('T')\n",
    "        groups['propensity'].plot(kind='hist', sharex=True, alpha=0.7, bins=40, ax=ax[j])\n",
    "        ax[j].set_title(f'{dataset_names[i]}, method={method}')\n",
    "        ax[j].set_xlabel('propensity')\n",
    "        ax[j].grid(True)\n",
    "        ax[j].legend([f'T=0','T=1'])"
   ]
  },
  {
   "cell_type": "markdown",
   "metadata": {},
   "source": [
    "Based on the results, we opted to use the Logistic Regression method for the propensity estimation.\n",
    "On the first dataset, both methods performed similarly both in terms of Brier score and ROC-AUC.\n",
    "However, on the second dataset the GBM method performed better under both metrics.\n",
    "Even so, the GBM method produces sharp propensity distributions with values in a small range (~0.1).\n",
    "These results may indicate strong overfitting, and are qualitatively less feasible as distributions obtained\n",
    "from a real-world selection process.\n",
    "In addition, the GBM-based approach leads to less common-support in terms of propensity score between the treatment and control groups. This will cause us to ignore more data in order to ensure that the overlap assumption holds."
   ]
  },
  {
   "cell_type": "code",
   "execution_count": 141,
   "metadata": {
    "pycharm": {
     "is_executing": false,
     "name": "#%%\n"
    }
   },
   "outputs": [
    {
     "data": {
      "text/html": [
       "<div>\n",
       "<style scoped>\n",
       "    .dataframe tbody tr th:only-of-type {\n",
       "        vertical-align: middle;\n",
       "    }\n",
       "\n",
       "    .dataframe tbody tr th {\n",
       "        vertical-align: top;\n",
       "    }\n",
       "\n",
       "    .dataframe thead th {\n",
       "        text-align: right;\n",
       "    }\n",
       "</style>\n",
       "<table border=\"1\" class=\"dataframe\">\n",
       "  <thead>\n",
       "    <tr style=\"text-align: right;\">\n",
       "      <th></th>\n",
       "      <th>0</th>\n",
       "      <th>1</th>\n",
       "      <th>2</th>\n",
       "      <th>3</th>\n",
       "      <th>4</th>\n",
       "      <th>5</th>\n",
       "      <th>6</th>\n",
       "      <th>7</th>\n",
       "      <th>8</th>\n",
       "      <th>9</th>\n",
       "      <th>...</th>\n",
       "      <th>4792</th>\n",
       "      <th>4793</th>\n",
       "      <th>4794</th>\n",
       "      <th>4795</th>\n",
       "      <th>4796</th>\n",
       "      <th>4797</th>\n",
       "      <th>4798</th>\n",
       "      <th>4799</th>\n",
       "      <th>4800</th>\n",
       "      <th>4801</th>\n",
       "    </tr>\n",
       "  </thead>\n",
       "  <tbody>\n",
       "    <tr>\n",
       "      <th>data1</th>\n",
       "      <td>0.590791</td>\n",
       "      <td>0.602378</td>\n",
       "      <td>0.66968</td>\n",
       "      <td>0.678316</td>\n",
       "      <td>0.679771</td>\n",
       "      <td>0.648671</td>\n",
       "      <td>0.744385</td>\n",
       "      <td>0.689508</td>\n",
       "      <td>0.552552</td>\n",
       "      <td>0.687808</td>\n",
       "      <td>...</td>\n",
       "      <td>0.579297</td>\n",
       "      <td>0.628837</td>\n",
       "      <td>0.698789</td>\n",
       "      <td>0.645916</td>\n",
       "      <td>0.672511</td>\n",
       "      <td>0.647832</td>\n",
       "      <td>0.563143</td>\n",
       "      <td>0.722292</td>\n",
       "      <td>0.579669</td>\n",
       "      <td>0.597480</td>\n",
       "    </tr>\n",
       "    <tr>\n",
       "      <th>data2</th>\n",
       "      <td>0.793703</td>\n",
       "      <td>0.572188</td>\n",
       "      <td>0.88930</td>\n",
       "      <td>0.261771</td>\n",
       "      <td>0.441302</td>\n",
       "      <td>0.463318</td>\n",
       "      <td>0.203440</td>\n",
       "      <td>0.778150</td>\n",
       "      <td>0.524059</td>\n",
       "      <td>0.711042</td>\n",
       "      <td>...</td>\n",
       "      <td>0.529294</td>\n",
       "      <td>0.408591</td>\n",
       "      <td>0.330661</td>\n",
       "      <td>0.298430</td>\n",
       "      <td>0.613993</td>\n",
       "      <td>0.355403</td>\n",
       "      <td>0.567564</td>\n",
       "      <td>0.489908</td>\n",
       "      <td>0.655081</td>\n",
       "      <td>0.461809</td>\n",
       "    </tr>\n",
       "  </tbody>\n",
       "</table>\n",
       "<p>2 rows × 4802 columns</p>\n",
       "</div>"
      ],
      "text/plain": [
       "           0         1        2         3         4         5         6     \\\n",
       "data1  0.590791  0.602378  0.66968  0.678316  0.679771  0.648671  0.744385   \n",
       "data2  0.793703  0.572188  0.88930  0.261771  0.441302  0.463318  0.203440   \n",
       "\n",
       "           7         8         9     ...      4792      4793      4794  \\\n",
       "data1  0.689508  0.552552  0.687808  ...  0.579297  0.628837  0.698789   \n",
       "data2  0.778150  0.524059  0.711042  ...  0.529294  0.408591  0.330661   \n",
       "\n",
       "           4795      4796      4797      4798      4799      4800      4801  \n",
       "data1  0.645916  0.672511  0.647832  0.563143  0.722292  0.579669  0.597480  \n",
       "data2  0.298430  0.613993  0.355403  0.567564  0.489908  0.655081  0.461809  \n",
       "\n",
       "[2 rows x 4802 columns]"
      ]
     },
     "execution_count": 141,
     "metadata": {},
     "output_type": "execute_result"
    }
   ],
   "source": [
    "# Save the LR propensity estimates into a new dataframe.\n",
    "df_prop_lr = pd.DataFrame(dict(data1=df_propensity[(dataset_names[0], 'logistic')],\n",
    "                               data2=df_propensity[(dataset_names[1], 'logistic')]))\n",
    "\n",
    "# Write the propensities to an output file with the requested format.\n",
    "df_prop_lr.transpose().to_csv(f'{OUT_DIR}/models_propensity.csv', header=False)\n",
    "df_prop_lr.transpose()"
   ]
  },
  {
   "cell_type": "markdown",
   "metadata": {
    "pycharm": {
     "name": "#%% md\n"
    }
   },
   "source": [
    "## Part 3: Inverse-Propensity Weighting"
   ]
  },
  {
   "cell_type": "markdown",
   "metadata": {
    "pycharm": {
     "name": "#%% md\n"
    }
   },
   "source": [
    "The ATT, or average treatment effect on the treated is defined as\n",
    "$$\n",
    "\\mathrm{ATT} =  \\E[]{\\rvar{Y}^1-\\rvar{Y}^0\\given \\rvar{T}=1},\n",
    "$$\n",
    "where $\\rvar{Y}^t$ is the potential outcome of $\\rvar{T}=t$ and we assume a binary treatment, i.e. $t\\in\\setof{0,1}$."
   ]
  },
  {
   "cell_type": "markdown",
   "metadata": {
    "pycharm": {
     "name": "#%% md\n"
    }
   },
   "source": [
    "Under the assumption of conditional ignorability, given the covariates $\\rvec{X}$,\n",
    "the potential outcomes are independent of the treatment assignment,\n",
    "i.e. $(\\rvar{Y}^1,\\rvar{Y}^0)\\indep \\rvar{T}\\vert \\rvec{X}$.\n",
    "Since we know there are no unmeasured confounders in our data, this assumption holds.\n",
    "Therefore we can write,\n",
    "$$\n",
    "\\begin{align}\n",
    "\\mathrm{ATT}\n",
    "&=  \\E[]{\\rvar{Y}^1-\\rvar{Y}^0\\given \\rvar{T}=1}\\\\\n",
    "&=  \\E[\\rvec{X}]{\\E[]{\\rvar{Y}^1-\\rvar{Y}^0\\given \\rvar{T}=1, \\rvec{X}}}\\\\\n",
    "&=  \\E[\\rvec{X}]{\\E[]{\\rvar{Y}^1\\given \\rvar{T}=1, \\rvec{X}}-\\E[]{\\rvar{Y}^0\\given \\rvar{T}=1, \\rvec{X}}}\\\\\n",
    "&=  \\E[\\rvec{X}]{\\E[]{\\rvar{Y}^1\\given \\rvar{T}=1, \\rvec{X}}-\\E[]{\\rvar{Y}^0\\given \\rvar{T}=0, \\rvec{X}}}\\\\\n",
    "&=  \\E[\\rvec{X}]{\\E[]{\\rvar{Y}\\given \\rvar{T}=1, \\rvec{X}}-\\E[]{\\rvar{Y}\\given \\rvar{T}=0, \\rvec{X}}}\n",
    "\\end{align}\n",
    "$$\n",
    "where we used the conditional ignorability and the consistency assumptions in the second-last and last equations respectively.\n",
    "This shows the basis for ATT estimation: we can look at the *observed* outcome of a unit from the other group but with the same covariates."
   ]
  },
  {
   "cell_type": "markdown",
   "metadata": {},
   "source": [
    "Based on Abdia et al. <cite data-cite=\"abdia2017\">(Abdia, 2017)</cite> we will use our propensity score estimator $\\hat e(\\rvec{X})$ to estimate the ATT by a sample weighting approach.\n",
    "Outcome samples from the treated group will get a weight of $1$, while outcomes from the control\n",
    "group will be given a weight of $\\frac{\\hat e(\\rvec{X})}{1-\\hat e(\\rvec{X})}$. \n",
    "Intuitively, this gives more weight to control-group samples that have low propensity, i.e. ones that\n",
    "are more \"surprisingly\" in the control group.\n",
    "\n",
    "We'll denote the samples in our dataset as $\\setof{\\left(\\vec{x}_i,y_i,t_i\\right)}_{i=1}^{N}$.\n",
    "Thus, the ATT estimator will be,\n",
    "$$\n",
    "\\widehat{\\mathrm{ATT}} =\n",
    "\\frac{\\sum_{i=1}^{N} t_i y_i}{\\sum_{i=1}^{N} t_i} -\n",
    "\\frac{\\sum_{i=1}^{N} (1-t_i)y_i\\frac{\\hat e(\\vec{x}_i)}{1-\\hat e(\\vec{x}_i)}}\n",
    "{\\sum_{i=1}^{N} (1-t_i)\\frac{\\hat e(\\vec{x}_i)}{1-\\hat e(\\vec{x}_i)}}.\n",
    "$$\n",
    "Note that due to the fact that the treatment variables are binary, $t_i\\in\\setof{0,1}$,\n",
    "the first term in the above only sums over the treatment group, with a weight of one per sample,\n",
    "while the second term only sums over the contol group, with the desired weighting based on the propensity score of the sample."
   ]
  },
  {
   "cell_type": "code",
   "execution_count": 155,
   "metadata": {},
   "outputs": [],
   "source": [
    "df_results = pd.DataFrame(index=['data1', 'data2'])"
   ]
  },
  {
   "cell_type": "code",
   "execution_count": 158,
   "metadata": {},
   "outputs": [
    {
     "data": {
      "text/html": [
       "<div>\n",
       "<style scoped>\n",
       "    .dataframe tbody tr th:only-of-type {\n",
       "        vertical-align: middle;\n",
       "    }\n",
       "\n",
       "    .dataframe tbody tr th {\n",
       "        vertical-align: top;\n",
       "    }\n",
       "\n",
       "    .dataframe thead th {\n",
       "        text-align: right;\n",
       "    }\n",
       "</style>\n",
       "<table border=\"1\" class=\"dataframe\">\n",
       "  <thead>\n",
       "    <tr style=\"text-align: right;\">\n",
       "      <th></th>\n",
       "      <th>ipw</th>\n",
       "    </tr>\n",
       "  </thead>\n",
       "  <tbody>\n",
       "    <tr>\n",
       "      <th>data1</th>\n",
       "      <td>4.677132</td>\n",
       "    </tr>\n",
       "    <tr>\n",
       "      <th>data2</th>\n",
       "      <td>3.455314</td>\n",
       "    </tr>\n",
       "  </tbody>\n",
       "</table>\n",
       "</div>"
      ],
      "text/plain": [
       "            ipw\n",
       "data1  4.677132\n",
       "data2  3.455314"
      ]
     },
     "execution_count": 158,
     "metadata": {},
     "output_type": "execute_result"
    }
   ],
   "source": [
    "import hw3.att as att\n",
    "\n",
    "df_results['ipw'] = float('nan')\n",
    "for i, df in enumerate(dataframes):\n",
    "    \n",
    "    y = df['Y'].to_numpy()\n",
    "    t = df['T'].to_numpy()\n",
    "    prop = df_prop_lr[dataset_names[i]].to_numpy()\n",
    "    \n",
    "    est_att = att.ipw(y, t, prop)\n",
    "    df_results['ipw'][i] = est_att\n",
    "    \n",
    "df_results[['ipw']]"
   ]
  },
  {
   "cell_type": "markdown",
   "metadata": {
    "pycharm": {
     "name": "#%% md\n"
    }
   },
   "source": [
    "## Part 4: S-Learner"
   ]
  },
  {
   "cell_type": "code",
   "execution_count": 397,
   "metadata": {},
   "outputs": [],
   "source": [
    "from hw3.cv import fit_slearner_cv, CVConfig, MLPHiddenLayerSampler, LogSpaceSampler"
   ]
  },
  {
   "cell_type": "markdown",
   "metadata": {},
   "source": [
    "We'll fit four types of models to the data."
   ]
  },
  {
   "cell_type": "code",
   "execution_count": 422,
   "metadata": {},
   "outputs": [],
   "source": [
    "rcv_config = dict(\n",
    "    ridge=CVConfig(\n",
    "        model=Ridge(),\n",
    "        params=dict(alpha=LogSpaceSampler(-3, 1))\n",
    "    ),\n",
    "    \n",
    "    lasso=CVConfig(\n",
    "        model=Lasso(max_iter=2000,tol=0.001),\n",
    "        params=dict(alpha=LogSpaceSampler(-3, 1))),\n",
    "    \n",
    "    gbm=CVConfig(\n",
    "        model=GradientBoostingRegressor(),\n",
    "        params=dict(\n",
    "            n_estimators=stats.randint(10, 50+1),\n",
    "            max_depth=stats.randint(1, 3+1),\n",
    "            learning_rate=LogSpaceSampler(-2, 0.5),\n",
    "        )),\n",
    "    \n",
    "    mlp=CVConfig(\n",
    "        model=MLPRegressor(solver='lbfgs',),\n",
    "        params=dict(\n",
    "            hidden_layer_sizes=MLPHiddenLayerSampler(4, 50),\n",
    "            activation=['logistic', 'tanh', 'relu'],\n",
    "            alpha=LogSpaceSampler(-3, 1),\n",
    "        )),\n",
    ")"
   ]
  },
  {
   "cell_type": "markdown",
   "metadata": {},
   "source": [
    "Fit all four models types using Cross Validation."
   ]
  },
  {
   "cell_type": "code",
   "execution_count": 424,
   "metadata": {},
   "outputs": [
    {
     "name": "stdout",
     "output_type": "stream",
     "text": [
      "data1\tmodel=ridge\tbest_params={'model__alpha': 7.579479953347994}\n",
      "data1\tmodel=lasso\tbest_params={'model__alpha': 0.0314891164795686}\n",
      "data1\tmodel=gbm\tbest_params={'model__learning_rate': 0.6760593982633073, 'model__max_depth': 1, 'model__n_estimators': 30}\n",
      "data1\tmodel=mlp\tbest_params={'model__activation': 'relu', 'model__alpha': 0.06071989493441296, 'model__hidden_layer_sizes': (11, 11, 24)}\n",
      "data2\tmodel=ridge\tbest_params={'model__alpha': 0.0314891164795686}\n",
      "data2\tmodel=lasso\tbest_params={'model__alpha': 0.0314891164795686}\n",
      "data2\tmodel=gbm\tbest_params={'model__learning_rate': 0.6760593982633073, 'model__max_depth': 1, 'model__n_estimators': 30}\n",
      "data2\tmodel=mlp\tbest_params={'model__activation': 'relu', 'model__alpha': 0.06071989493441296, 'model__hidden_layer_sizes': (11, 11, 24)}\n"
     ]
    },
    {
     "data": {
      "text/html": [
       "<div>\n",
       "<style scoped>\n",
       "    .dataframe tbody tr th:only-of-type {\n",
       "        vertical-align: middle;\n",
       "    }\n",
       "\n",
       "    .dataframe tbody tr th {\n",
       "        vertical-align: top;\n",
       "    }\n",
       "\n",
       "    .dataframe thead th {\n",
       "        text-align: right;\n",
       "    }\n",
       "</style>\n",
       "<table border=\"1\" class=\"dataframe\">\n",
       "  <thead>\n",
       "    <tr style=\"text-align: right;\">\n",
       "      <th></th>\n",
       "      <th></th>\n",
       "      <th>train</th>\n",
       "      <th>test</th>\n",
       "    </tr>\n",
       "  </thead>\n",
       "  <tbody>\n",
       "    <tr>\n",
       "      <th rowspan=\"4\" valign=\"top\">data1</th>\n",
       "      <th>ridge</th>\n",
       "      <td>0.568255</td>\n",
       "      <td>0.55532</td>\n",
       "    </tr>\n",
       "    <tr>\n",
       "      <th>lasso</th>\n",
       "      <td>0.557878</td>\n",
       "      <td>0.556426</td>\n",
       "    </tr>\n",
       "    <tr>\n",
       "      <th>gbm</th>\n",
       "      <td>0.856555</td>\n",
       "      <td>0.853897</td>\n",
       "    </tr>\n",
       "    <tr>\n",
       "      <th>mlp</th>\n",
       "      <td>0.944465</td>\n",
       "      <td>0.906821</td>\n",
       "    </tr>\n",
       "    <tr>\n",
       "      <th rowspan=\"4\" valign=\"top\">data2</th>\n",
       "      <th>ridge</th>\n",
       "      <td>0.411889</td>\n",
       "      <td>0.314818</td>\n",
       "    </tr>\n",
       "    <tr>\n",
       "      <th>lasso</th>\n",
       "      <td>0.390367</td>\n",
       "      <td>0.341174</td>\n",
       "    </tr>\n",
       "    <tr>\n",
       "      <th>gbm</th>\n",
       "      <td>0.906078</td>\n",
       "      <td>0.878242</td>\n",
       "    </tr>\n",
       "    <tr>\n",
       "      <th>mlp</th>\n",
       "      <td>0.964415</td>\n",
       "      <td>0.915126</td>\n",
       "    </tr>\n",
       "  </tbody>\n",
       "</table>\n",
       "</div>"
      ],
      "text/plain": [
       "                train      test\n",
       "data1 ridge  0.568255   0.55532\n",
       "      lasso  0.557878  0.556426\n",
       "      gbm    0.856555  0.853897\n",
       "      mlp    0.944465  0.906821\n",
       "data2 ridge  0.411889  0.314818\n",
       "      lasso  0.390367  0.341174\n",
       "      gbm    0.906078  0.878242\n",
       "      mlp    0.964415  0.915126"
      ]
     },
     "execution_count": 424,
     "metadata": {},
     "output_type": "execute_result"
    }
   ],
   "source": [
    "df_cv_slearner = pd.DataFrame(\n",
    "    index=pd.MultiIndex.from_product([dataset_names, rcv_config.keys()]),\n",
    "    columns=('train', 'test', 'cv_model')\n",
    ")\n",
    "\n",
    "for i, df in enumerate(dataframes):\n",
    "    X, y, t = get_training_data(df)\n",
    "    \n",
    "    for model_name, cv_cfg in rcv_config.items():\n",
    "        model, train_score, test_score = fit_slearner_cv(\n",
    "            cv_cfg, X, y, t, random_state=42,\n",
    "            interaction=True, test_size=0.5, train_splits=4, n_iter=16\n",
    "        )\n",
    "    \n",
    "        df_cv_slearner.loc[(dataset_names[i], model_name), :] = [\n",
    "            train_score, test_score, model\n",
    "        ]\n",
    "        print(f'{dataset_names[i]}\\tmodel={model_name}\\tbest_params={model.best_params_}')\n",
    "\n",
    "df_cv_slearner[['train', 'test']]"
   ]
  },
  {
   "cell_type": "code",
   "execution_count": null,
   "metadata": {},
   "outputs": [],
   "source": []
  }
 ],
 "metadata": {
  "kernelspec": {
   "display_name": "PyCharm (hw3)",
   "language": "python",
   "name": "pycharm-a563818b"
  },
  "language_info": {
   "codemirror_mode": {
    "name": "ipython",
    "version": 3
   },
   "file_extension": ".py",
   "mimetype": "text/x-python",
   "name": "python",
   "nbconvert_exporter": "python",
   "pygments_lexer": "ipython3",
   "version": "3.7.3"
  },
  "pycharm": {
   "stem_cell": {
    "cell_type": "raw",
    "metadata": {
     "collapsed": false
    },
    "source": []
   }
  }
 },
 "nbformat": 4,
 "nbformat_minor": 2
}
